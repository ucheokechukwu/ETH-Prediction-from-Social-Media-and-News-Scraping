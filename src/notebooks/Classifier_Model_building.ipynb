{
  "nbformat": 4,
  "nbformat_minor": 0,
  "metadata": {
    "colab": {
      "provenance": []
    },
    "kernelspec": {
      "name": "python3",
      "display_name": "Python 3"
    },
    "language_info": {
      "name": "python"
    }
  },
  "cells": [
    {
      "cell_type": "markdown",
      "source": [
        "Continuing from the Feature Engineering notebook. This notebook discusses the experiments carried out to find an optimum model for the Predictor."
      ],
      "metadata": {
        "id": "GxZPtT3260aC"
      }
    },
    {
      "cell_type": "code",
      "source": [
        "from google.colab import drive\n",
        "drive.mount('/content/drive')"
      ],
      "metadata": {
        "colab": {
          "base_uri": "https://localhost:8080/"
        },
        "id": "lObTjgANa5Ec",
        "outputId": "c1e2e13d-3eb0-4576-d460-7d333d7b4cd8"
      },
      "execution_count": null,
      "outputs": [
        {
          "output_type": "stream",
          "name": "stdout",
          "text": [
            "Mounted at /content/drive\n"
          ]
        }
      ]
    },
    {
      "cell_type": "code",
      "source": [
        "import numpy as np\n",
        "import pandas as pd\n",
        "import matplotlib.pyplot as plt\n",
        "import seaborn as sns\n",
        "sns.set_theme(style='whitegrid', context='talk')\n",
        "import tensorflow as tf\n",
        "\n",
        "from tensorflow.keras import layers\n",
        "from tensorflow.keras.utils import plot_model\n",
        "from tensorflow.keras.callbacks import ModelCheckpoint, EarlyStopping\n",
        "\n",
        "\n",
        "import warnings\n",
        "warnings.filterwarnings('ignore')"
      ],
      "metadata": {
        "id": "iBRjbQrra0HM"
      },
      "execution_count": null,
      "outputs": []
    },
    {
      "cell_type": "markdown",
      "source": [
        "# Preparing the Dataset\n"
      ],
      "metadata": {
        "id": "WQ9VzcM9bTsE"
      }
    },
    {
      "cell_type": "code",
      "execution_count": null,
      "metadata": {
        "colab": {
          "base_uri": "https://localhost:8080/",
          "height": 237
        },
        "id": "s4UfxoH9axGu",
        "outputId": "d014d097-28f3-41c8-a8ca-a41f3d2a6404"
      },
      "outputs": [
        {
          "output_type": "execute_result",
          "data": {
            "text/plain": [
              "              Volume  Move  Forecast         0         1         2     0_SPX  \\\n",
              "Date                                                                           \n",
              "2015-01-07  1.005468     1       1.0 -0.033832 -0.022282 -0.017089 -0.009385   \n",
              "2015-01-08  1.005349     1       2.0 -0.022282 -0.017089  0.037738 -0.020523   \n",
              "2015-01-09  1.005322     2       1.0 -0.017089  0.037738  0.016188 -0.006259   \n",
              "2015-01-12  1.006957     1       1.0  0.037738  0.016188 -0.047262  0.026292   \n",
              "2015-01-13  1.008898     1       1.0  0.016188 -0.047262  0.014290 -0.000310   \n",
              "\n",
              "               1_SPX     2_SPX  \n",
              "Date                            \n",
              "2015-01-07 -0.020523 -0.006259  \n",
              "2015-01-08 -0.006259  0.026292  \n",
              "2015-01-09  0.026292 -0.000310  \n",
              "2015-01-12 -0.000310 -0.005515  \n",
              "2015-01-13 -0.005515  0.003234  "
            ],
            "text/html": [
              "\n",
              "  <div id=\"df-8fb8c0ed-297f-441d-abc9-92f98ba33d2c\">\n",
              "    <div class=\"colab-df-container\">\n",
              "      <div>\n",
              "<style scoped>\n",
              "    .dataframe tbody tr th:only-of-type {\n",
              "        vertical-align: middle;\n",
              "    }\n",
              "\n",
              "    .dataframe tbody tr th {\n",
              "        vertical-align: top;\n",
              "    }\n",
              "\n",
              "    .dataframe thead th {\n",
              "        text-align: right;\n",
              "    }\n",
              "</style>\n",
              "<table border=\"1\" class=\"dataframe\">\n",
              "  <thead>\n",
              "    <tr style=\"text-align: right;\">\n",
              "      <th></th>\n",
              "      <th>Volume</th>\n",
              "      <th>Move</th>\n",
              "      <th>Forecast</th>\n",
              "      <th>0</th>\n",
              "      <th>1</th>\n",
              "      <th>2</th>\n",
              "      <th>0_SPX</th>\n",
              "      <th>1_SPX</th>\n",
              "      <th>2_SPX</th>\n",
              "    </tr>\n",
              "    <tr>\n",
              "      <th>Date</th>\n",
              "      <th></th>\n",
              "      <th></th>\n",
              "      <th></th>\n",
              "      <th></th>\n",
              "      <th></th>\n",
              "      <th></th>\n",
              "      <th></th>\n",
              "      <th></th>\n",
              "      <th></th>\n",
              "    </tr>\n",
              "  </thead>\n",
              "  <tbody>\n",
              "    <tr>\n",
              "      <th>2015-01-07</th>\n",
              "      <td>1.005468</td>\n",
              "      <td>1</td>\n",
              "      <td>1.0</td>\n",
              "      <td>-0.033832</td>\n",
              "      <td>-0.022282</td>\n",
              "      <td>-0.017089</td>\n",
              "      <td>-0.009385</td>\n",
              "      <td>-0.020523</td>\n",
              "      <td>-0.006259</td>\n",
              "    </tr>\n",
              "    <tr>\n",
              "      <th>2015-01-08</th>\n",
              "      <td>1.005349</td>\n",
              "      <td>1</td>\n",
              "      <td>2.0</td>\n",
              "      <td>-0.022282</td>\n",
              "      <td>-0.017089</td>\n",
              "      <td>0.037738</td>\n",
              "      <td>-0.020523</td>\n",
              "      <td>-0.006259</td>\n",
              "      <td>0.026292</td>\n",
              "    </tr>\n",
              "    <tr>\n",
              "      <th>2015-01-09</th>\n",
              "      <td>1.005322</td>\n",
              "      <td>2</td>\n",
              "      <td>1.0</td>\n",
              "      <td>-0.017089</td>\n",
              "      <td>0.037738</td>\n",
              "      <td>0.016188</td>\n",
              "      <td>-0.006259</td>\n",
              "      <td>0.026292</td>\n",
              "      <td>-0.000310</td>\n",
              "    </tr>\n",
              "    <tr>\n",
              "      <th>2015-01-12</th>\n",
              "      <td>1.006957</td>\n",
              "      <td>1</td>\n",
              "      <td>1.0</td>\n",
              "      <td>0.037738</td>\n",
              "      <td>0.016188</td>\n",
              "      <td>-0.047262</td>\n",
              "      <td>0.026292</td>\n",
              "      <td>-0.000310</td>\n",
              "      <td>-0.005515</td>\n",
              "    </tr>\n",
              "    <tr>\n",
              "      <th>2015-01-13</th>\n",
              "      <td>1.008898</td>\n",
              "      <td>1</td>\n",
              "      <td>1.0</td>\n",
              "      <td>0.016188</td>\n",
              "      <td>-0.047262</td>\n",
              "      <td>0.014290</td>\n",
              "      <td>-0.000310</td>\n",
              "      <td>-0.005515</td>\n",
              "      <td>0.003234</td>\n",
              "    </tr>\n",
              "  </tbody>\n",
              "</table>\n",
              "</div>\n",
              "      <button class=\"colab-df-convert\" onclick=\"convertToInteractive('df-8fb8c0ed-297f-441d-abc9-92f98ba33d2c')\"\n",
              "              title=\"Convert this dataframe to an interactive table.\"\n",
              "              style=\"display:none;\">\n",
              "        \n",
              "  <svg xmlns=\"http://www.w3.org/2000/svg\" height=\"24px\"viewBox=\"0 0 24 24\"\n",
              "       width=\"24px\">\n",
              "    <path d=\"M0 0h24v24H0V0z\" fill=\"none\"/>\n",
              "    <path d=\"M18.56 5.44l.94 2.06.94-2.06 2.06-.94-2.06-.94-.94-2.06-.94 2.06-2.06.94zm-11 1L8.5 8.5l.94-2.06 2.06-.94-2.06-.94L8.5 2.5l-.94 2.06-2.06.94zm10 10l.94 2.06.94-2.06 2.06-.94-2.06-.94-.94-2.06-.94 2.06-2.06.94z\"/><path d=\"M17.41 7.96l-1.37-1.37c-.4-.4-.92-.59-1.43-.59-.52 0-1.04.2-1.43.59L10.3 9.45l-7.72 7.72c-.78.78-.78 2.05 0 2.83L4 21.41c.39.39.9.59 1.41.59.51 0 1.02-.2 1.41-.59l7.78-7.78 2.81-2.81c.8-.78.8-2.07 0-2.86zM5.41 20L4 18.59l7.72-7.72 1.47 1.35L5.41 20z\"/>\n",
              "  </svg>\n",
              "      </button>\n",
              "      \n",
              "  <style>\n",
              "    .colab-df-container {\n",
              "      display:flex;\n",
              "      flex-wrap:wrap;\n",
              "      gap: 12px;\n",
              "    }\n",
              "\n",
              "    .colab-df-convert {\n",
              "      background-color: #E8F0FE;\n",
              "      border: none;\n",
              "      border-radius: 50%;\n",
              "      cursor: pointer;\n",
              "      display: none;\n",
              "      fill: #1967D2;\n",
              "      height: 32px;\n",
              "      padding: 0 0 0 0;\n",
              "      width: 32px;\n",
              "    }\n",
              "\n",
              "    .colab-df-convert:hover {\n",
              "      background-color: #E2EBFA;\n",
              "      box-shadow: 0px 1px 2px rgba(60, 64, 67, 0.3), 0px 1px 3px 1px rgba(60, 64, 67, 0.15);\n",
              "      fill: #174EA6;\n",
              "    }\n",
              "\n",
              "    [theme=dark] .colab-df-convert {\n",
              "      background-color: #3B4455;\n",
              "      fill: #D2E3FC;\n",
              "    }\n",
              "\n",
              "    [theme=dark] .colab-df-convert:hover {\n",
              "      background-color: #434B5C;\n",
              "      box-shadow: 0px 1px 3px 1px rgba(0, 0, 0, 0.15);\n",
              "      filter: drop-shadow(0px 1px 2px rgba(0, 0, 0, 0.3));\n",
              "      fill: #FFFFFF;\n",
              "    }\n",
              "  </style>\n",
              "\n",
              "      <script>\n",
              "        const buttonEl =\n",
              "          document.querySelector('#df-8fb8c0ed-297f-441d-abc9-92f98ba33d2c button.colab-df-convert');\n",
              "        buttonEl.style.display =\n",
              "          google.colab.kernel.accessAllowed ? 'block' : 'none';\n",
              "\n",
              "        async function convertToInteractive(key) {\n",
              "          const element = document.querySelector('#df-8fb8c0ed-297f-441d-abc9-92f98ba33d2c');\n",
              "          const dataTable =\n",
              "            await google.colab.kernel.invokeFunction('convertToInteractive',\n",
              "                                                     [key], {});\n",
              "          if (!dataTable) return;\n",
              "\n",
              "          const docLinkHtml = 'Like what you see? Visit the ' +\n",
              "            '<a target=\"_blank\" href=https://colab.research.google.com/notebooks/data_table.ipynb>data table notebook</a>'\n",
              "            + ' to learn more about interactive tables.';\n",
              "          element.innerHTML = '';\n",
              "          dataTable['output_type'] = 'display_data';\n",
              "          await google.colab.output.renderOutput(dataTable, element);\n",
              "          const docLink = document.createElement('div');\n",
              "          docLink.innerHTML = docLinkHtml;\n",
              "          element.appendChild(docLink);\n",
              "        }\n",
              "      </script>\n",
              "    </div>\n",
              "  </div>\n",
              "  "
            ]
          },
          "metadata": {},
          "execution_count": 3
        }
      ],
      "source": [
        "data = pd.read_csv('/content/drive/MyDrive/stock_model/dataframe_for_model.csv',\n",
        "            parse_dates=['Date'],\n",
        "            index_col=['Date']).dropna()\n",
        "\n",
        "data.head()"
      ]
    },
    {
      "cell_type": "markdown",
      "source": [
        "# Baseline Model: Naive Forecast\n",
        "We will simply shift the model by one day, and evaluate the performance of the model.\n",
        "\n",
        "X[t+1] = X[t]\n",
        "\n",
        "To do this, we have to use the original values of 'Close', not the price movements. Perform the shift. Then convert 'Close' -> 'Close'.diff() -> 'Movement'"
      ],
      "metadata": {
        "id": "3FfhTM06cMte"
      }
    },
    {
      "cell_type": "code",
      "source": [
        "# download the data\n",
        "\n",
        "Close = pd.read_csv('/content/drive/MyDrive/stock_model/NFLX_fuller.csv',\n",
        "                        parse_dates=['Date']).set_index('Date')\n",
        "Close = Close['2015':]['Close'].to_frame()\n",
        "display(Close.head(3))\n",
        "\n",
        "# converting it to diff\n",
        "Close['Close_diff'] = Close['Close'].diff()/Close['Close']\n",
        "display(Close.head(3))\n",
        "# converting it to discrete bins\n",
        "from helper_functions import hypertune_bins\n",
        "Close['Move'] = hypertune_bins(Close['Close_diff'], [-0.029,  0.024])\n",
        "\n",
        "Close = Close.dropna()\n",
        "Close.head(3)"
      ],
      "metadata": {
        "id": "Dr9LHsIsdSw-",
        "colab": {
          "base_uri": "https://localhost:8080/",
          "height": 777
        },
        "outputId": "621a703b-e25f-4947-d21d-f9322ee01b3d"
      },
      "execution_count": null,
      "outputs": [
        {
          "output_type": "display_data",
          "data": {
            "text/plain": [
              "             Close\n",
              "Date              \n",
              "2023-06-16  431.96\n",
              "2023-06-15  445.27\n",
              "2023-06-14  440.86"
            ],
            "text/html": [
              "\n",
              "  <div id=\"df-e14308bc-32d3-45ea-991f-183420c84e56\">\n",
              "    <div class=\"colab-df-container\">\n",
              "      <div>\n",
              "<style scoped>\n",
              "    .dataframe tbody tr th:only-of-type {\n",
              "        vertical-align: middle;\n",
              "    }\n",
              "\n",
              "    .dataframe tbody tr th {\n",
              "        vertical-align: top;\n",
              "    }\n",
              "\n",
              "    .dataframe thead th {\n",
              "        text-align: right;\n",
              "    }\n",
              "</style>\n",
              "<table border=\"1\" class=\"dataframe\">\n",
              "  <thead>\n",
              "    <tr style=\"text-align: right;\">\n",
              "      <th></th>\n",
              "      <th>Close</th>\n",
              "    </tr>\n",
              "    <tr>\n",
              "      <th>Date</th>\n",
              "      <th></th>\n",
              "    </tr>\n",
              "  </thead>\n",
              "  <tbody>\n",
              "    <tr>\n",
              "      <th>2023-06-16</th>\n",
              "      <td>431.96</td>\n",
              "    </tr>\n",
              "    <tr>\n",
              "      <th>2023-06-15</th>\n",
              "      <td>445.27</td>\n",
              "    </tr>\n",
              "    <tr>\n",
              "      <th>2023-06-14</th>\n",
              "      <td>440.86</td>\n",
              "    </tr>\n",
              "  </tbody>\n",
              "</table>\n",
              "</div>\n",
              "      <button class=\"colab-df-convert\" onclick=\"convertToInteractive('df-e14308bc-32d3-45ea-991f-183420c84e56')\"\n",
              "              title=\"Convert this dataframe to an interactive table.\"\n",
              "              style=\"display:none;\">\n",
              "        \n",
              "  <svg xmlns=\"http://www.w3.org/2000/svg\" height=\"24px\"viewBox=\"0 0 24 24\"\n",
              "       width=\"24px\">\n",
              "    <path d=\"M0 0h24v24H0V0z\" fill=\"none\"/>\n",
              "    <path d=\"M18.56 5.44l.94 2.06.94-2.06 2.06-.94-2.06-.94-.94-2.06-.94 2.06-2.06.94zm-11 1L8.5 8.5l.94-2.06 2.06-.94-2.06-.94L8.5 2.5l-.94 2.06-2.06.94zm10 10l.94 2.06.94-2.06 2.06-.94-2.06-.94-.94-2.06-.94 2.06-2.06.94z\"/><path d=\"M17.41 7.96l-1.37-1.37c-.4-.4-.92-.59-1.43-.59-.52 0-1.04.2-1.43.59L10.3 9.45l-7.72 7.72c-.78.78-.78 2.05 0 2.83L4 21.41c.39.39.9.59 1.41.59.51 0 1.02-.2 1.41-.59l7.78-7.78 2.81-2.81c.8-.78.8-2.07 0-2.86zM5.41 20L4 18.59l7.72-7.72 1.47 1.35L5.41 20z\"/>\n",
              "  </svg>\n",
              "      </button>\n",
              "      \n",
              "  <style>\n",
              "    .colab-df-container {\n",
              "      display:flex;\n",
              "      flex-wrap:wrap;\n",
              "      gap: 12px;\n",
              "    }\n",
              "\n",
              "    .colab-df-convert {\n",
              "      background-color: #E8F0FE;\n",
              "      border: none;\n",
              "      border-radius: 50%;\n",
              "      cursor: pointer;\n",
              "      display: none;\n",
              "      fill: #1967D2;\n",
              "      height: 32px;\n",
              "      padding: 0 0 0 0;\n",
              "      width: 32px;\n",
              "    }\n",
              "\n",
              "    .colab-df-convert:hover {\n",
              "      background-color: #E2EBFA;\n",
              "      box-shadow: 0px 1px 2px rgba(60, 64, 67, 0.3), 0px 1px 3px 1px rgba(60, 64, 67, 0.15);\n",
              "      fill: #174EA6;\n",
              "    }\n",
              "\n",
              "    [theme=dark] .colab-df-convert {\n",
              "      background-color: #3B4455;\n",
              "      fill: #D2E3FC;\n",
              "    }\n",
              "\n",
              "    [theme=dark] .colab-df-convert:hover {\n",
              "      background-color: #434B5C;\n",
              "      box-shadow: 0px 1px 3px 1px rgba(0, 0, 0, 0.15);\n",
              "      filter: drop-shadow(0px 1px 2px rgba(0, 0, 0, 0.3));\n",
              "      fill: #FFFFFF;\n",
              "    }\n",
              "  </style>\n",
              "\n",
              "      <script>\n",
              "        const buttonEl =\n",
              "          document.querySelector('#df-e14308bc-32d3-45ea-991f-183420c84e56 button.colab-df-convert');\n",
              "        buttonEl.style.display =\n",
              "          google.colab.kernel.accessAllowed ? 'block' : 'none';\n",
              "\n",
              "        async function convertToInteractive(key) {\n",
              "          const element = document.querySelector('#df-e14308bc-32d3-45ea-991f-183420c84e56');\n",
              "          const dataTable =\n",
              "            await google.colab.kernel.invokeFunction('convertToInteractive',\n",
              "                                                     [key], {});\n",
              "          if (!dataTable) return;\n",
              "\n",
              "          const docLinkHtml = 'Like what you see? Visit the ' +\n",
              "            '<a target=\"_blank\" href=https://colab.research.google.com/notebooks/data_table.ipynb>data table notebook</a>'\n",
              "            + ' to learn more about interactive tables.';\n",
              "          element.innerHTML = '';\n",
              "          dataTable['output_type'] = 'display_data';\n",
              "          await google.colab.output.renderOutput(dataTable, element);\n",
              "          const docLink = document.createElement('div');\n",
              "          docLink.innerHTML = docLinkHtml;\n",
              "          element.appendChild(docLink);\n",
              "        }\n",
              "      </script>\n",
              "    </div>\n",
              "  </div>\n",
              "  "
            ]
          },
          "metadata": {}
        },
        {
          "output_type": "display_data",
          "data": {
            "text/plain": [
              "             Close  Close_diff\n",
              "Date                          \n",
              "2023-06-16  431.96         NaN\n",
              "2023-06-15  445.27    0.029892\n",
              "2023-06-14  440.86   -0.010003"
            ],
            "text/html": [
              "\n",
              "  <div id=\"df-97d43a14-91bb-4356-999d-e56e272cf30a\">\n",
              "    <div class=\"colab-df-container\">\n",
              "      <div>\n",
              "<style scoped>\n",
              "    .dataframe tbody tr th:only-of-type {\n",
              "        vertical-align: middle;\n",
              "    }\n",
              "\n",
              "    .dataframe tbody tr th {\n",
              "        vertical-align: top;\n",
              "    }\n",
              "\n",
              "    .dataframe thead th {\n",
              "        text-align: right;\n",
              "    }\n",
              "</style>\n",
              "<table border=\"1\" class=\"dataframe\">\n",
              "  <thead>\n",
              "    <tr style=\"text-align: right;\">\n",
              "      <th></th>\n",
              "      <th>Close</th>\n",
              "      <th>Close_diff</th>\n",
              "    </tr>\n",
              "    <tr>\n",
              "      <th>Date</th>\n",
              "      <th></th>\n",
              "      <th></th>\n",
              "    </tr>\n",
              "  </thead>\n",
              "  <tbody>\n",
              "    <tr>\n",
              "      <th>2023-06-16</th>\n",
              "      <td>431.96</td>\n",
              "      <td>NaN</td>\n",
              "    </tr>\n",
              "    <tr>\n",
              "      <th>2023-06-15</th>\n",
              "      <td>445.27</td>\n",
              "      <td>0.029892</td>\n",
              "    </tr>\n",
              "    <tr>\n",
              "      <th>2023-06-14</th>\n",
              "      <td>440.86</td>\n",
              "      <td>-0.010003</td>\n",
              "    </tr>\n",
              "  </tbody>\n",
              "</table>\n",
              "</div>\n",
              "      <button class=\"colab-df-convert\" onclick=\"convertToInteractive('df-97d43a14-91bb-4356-999d-e56e272cf30a')\"\n",
              "              title=\"Convert this dataframe to an interactive table.\"\n",
              "              style=\"display:none;\">\n",
              "        \n",
              "  <svg xmlns=\"http://www.w3.org/2000/svg\" height=\"24px\"viewBox=\"0 0 24 24\"\n",
              "       width=\"24px\">\n",
              "    <path d=\"M0 0h24v24H0V0z\" fill=\"none\"/>\n",
              "    <path d=\"M18.56 5.44l.94 2.06.94-2.06 2.06-.94-2.06-.94-.94-2.06-.94 2.06-2.06.94zm-11 1L8.5 8.5l.94-2.06 2.06-.94-2.06-.94L8.5 2.5l-.94 2.06-2.06.94zm10 10l.94 2.06.94-2.06 2.06-.94-2.06-.94-.94-2.06-.94 2.06-2.06.94z\"/><path d=\"M17.41 7.96l-1.37-1.37c-.4-.4-.92-.59-1.43-.59-.52 0-1.04.2-1.43.59L10.3 9.45l-7.72 7.72c-.78.78-.78 2.05 0 2.83L4 21.41c.39.39.9.59 1.41.59.51 0 1.02-.2 1.41-.59l7.78-7.78 2.81-2.81c.8-.78.8-2.07 0-2.86zM5.41 20L4 18.59l7.72-7.72 1.47 1.35L5.41 20z\"/>\n",
              "  </svg>\n",
              "      </button>\n",
              "      \n",
              "  <style>\n",
              "    .colab-df-container {\n",
              "      display:flex;\n",
              "      flex-wrap:wrap;\n",
              "      gap: 12px;\n",
              "    }\n",
              "\n",
              "    .colab-df-convert {\n",
              "      background-color: #E8F0FE;\n",
              "      border: none;\n",
              "      border-radius: 50%;\n",
              "      cursor: pointer;\n",
              "      display: none;\n",
              "      fill: #1967D2;\n",
              "      height: 32px;\n",
              "      padding: 0 0 0 0;\n",
              "      width: 32px;\n",
              "    }\n",
              "\n",
              "    .colab-df-convert:hover {\n",
              "      background-color: #E2EBFA;\n",
              "      box-shadow: 0px 1px 2px rgba(60, 64, 67, 0.3), 0px 1px 3px 1px rgba(60, 64, 67, 0.15);\n",
              "      fill: #174EA6;\n",
              "    }\n",
              "\n",
              "    [theme=dark] .colab-df-convert {\n",
              "      background-color: #3B4455;\n",
              "      fill: #D2E3FC;\n",
              "    }\n",
              "\n",
              "    [theme=dark] .colab-df-convert:hover {\n",
              "      background-color: #434B5C;\n",
              "      box-shadow: 0px 1px 3px 1px rgba(0, 0, 0, 0.15);\n",
              "      filter: drop-shadow(0px 1px 2px rgba(0, 0, 0, 0.3));\n",
              "      fill: #FFFFFF;\n",
              "    }\n",
              "  </style>\n",
              "\n",
              "      <script>\n",
              "        const buttonEl =\n",
              "          document.querySelector('#df-97d43a14-91bb-4356-999d-e56e272cf30a button.colab-df-convert');\n",
              "        buttonEl.style.display =\n",
              "          google.colab.kernel.accessAllowed ? 'block' : 'none';\n",
              "\n",
              "        async function convertToInteractive(key) {\n",
              "          const element = document.querySelector('#df-97d43a14-91bb-4356-999d-e56e272cf30a');\n",
              "          const dataTable =\n",
              "            await google.colab.kernel.invokeFunction('convertToInteractive',\n",
              "                                                     [key], {});\n",
              "          if (!dataTable) return;\n",
              "\n",
              "          const docLinkHtml = 'Like what you see? Visit the ' +\n",
              "            '<a target=\"_blank\" href=https://colab.research.google.com/notebooks/data_table.ipynb>data table notebook</a>'\n",
              "            + ' to learn more about interactive tables.';\n",
              "          element.innerHTML = '';\n",
              "          dataTable['output_type'] = 'display_data';\n",
              "          await google.colab.output.renderOutput(dataTable, element);\n",
              "          const docLink = document.createElement('div');\n",
              "          docLink.innerHTML = docLinkHtml;\n",
              "          element.appendChild(docLink);\n",
              "        }\n",
              "      </script>\n",
              "    </div>\n",
              "  </div>\n",
              "  "
            ]
          },
          "metadata": {}
        },
        {
          "output_type": "display_data",
          "data": {
            "text/plain": [
              "1    1639\n",
              "2     246\n",
              "0     244\n",
              "Name: Close_diff, dtype: int64"
            ]
          },
          "metadata": {}
        },
        {
          "output_type": "execute_result",
          "data": {
            "text/plain": [
              "             Close  Close_diff  Move\n",
              "Date                                \n",
              "2023-06-15  445.27    0.029892     2\n",
              "2023-06-14  440.86   -0.010003     1\n",
              "2023-06-13  435.73   -0.011773     1"
            ],
            "text/html": [
              "\n",
              "  <div id=\"df-3d3948d7-c406-40b1-bd8b-c73092f826ed\">\n",
              "    <div class=\"colab-df-container\">\n",
              "      <div>\n",
              "<style scoped>\n",
              "    .dataframe tbody tr th:only-of-type {\n",
              "        vertical-align: middle;\n",
              "    }\n",
              "\n",
              "    .dataframe tbody tr th {\n",
              "        vertical-align: top;\n",
              "    }\n",
              "\n",
              "    .dataframe thead th {\n",
              "        text-align: right;\n",
              "    }\n",
              "</style>\n",
              "<table border=\"1\" class=\"dataframe\">\n",
              "  <thead>\n",
              "    <tr style=\"text-align: right;\">\n",
              "      <th></th>\n",
              "      <th>Close</th>\n",
              "      <th>Close_diff</th>\n",
              "      <th>Move</th>\n",
              "    </tr>\n",
              "    <tr>\n",
              "      <th>Date</th>\n",
              "      <th></th>\n",
              "      <th></th>\n",
              "      <th></th>\n",
              "    </tr>\n",
              "  </thead>\n",
              "  <tbody>\n",
              "    <tr>\n",
              "      <th>2023-06-15</th>\n",
              "      <td>445.27</td>\n",
              "      <td>0.029892</td>\n",
              "      <td>2</td>\n",
              "    </tr>\n",
              "    <tr>\n",
              "      <th>2023-06-14</th>\n",
              "      <td>440.86</td>\n",
              "      <td>-0.010003</td>\n",
              "      <td>1</td>\n",
              "    </tr>\n",
              "    <tr>\n",
              "      <th>2023-06-13</th>\n",
              "      <td>435.73</td>\n",
              "      <td>-0.011773</td>\n",
              "      <td>1</td>\n",
              "    </tr>\n",
              "  </tbody>\n",
              "</table>\n",
              "</div>\n",
              "      <button class=\"colab-df-convert\" onclick=\"convertToInteractive('df-3d3948d7-c406-40b1-bd8b-c73092f826ed')\"\n",
              "              title=\"Convert this dataframe to an interactive table.\"\n",
              "              style=\"display:none;\">\n",
              "        \n",
              "  <svg xmlns=\"http://www.w3.org/2000/svg\" height=\"24px\"viewBox=\"0 0 24 24\"\n",
              "       width=\"24px\">\n",
              "    <path d=\"M0 0h24v24H0V0z\" fill=\"none\"/>\n",
              "    <path d=\"M18.56 5.44l.94 2.06.94-2.06 2.06-.94-2.06-.94-.94-2.06-.94 2.06-2.06.94zm-11 1L8.5 8.5l.94-2.06 2.06-.94-2.06-.94L8.5 2.5l-.94 2.06-2.06.94zm10 10l.94 2.06.94-2.06 2.06-.94-2.06-.94-.94-2.06-.94 2.06-2.06.94z\"/><path d=\"M17.41 7.96l-1.37-1.37c-.4-.4-.92-.59-1.43-.59-.52 0-1.04.2-1.43.59L10.3 9.45l-7.72 7.72c-.78.78-.78 2.05 0 2.83L4 21.41c.39.39.9.59 1.41.59.51 0 1.02-.2 1.41-.59l7.78-7.78 2.81-2.81c.8-.78.8-2.07 0-2.86zM5.41 20L4 18.59l7.72-7.72 1.47 1.35L5.41 20z\"/>\n",
              "  </svg>\n",
              "      </button>\n",
              "      \n",
              "  <style>\n",
              "    .colab-df-container {\n",
              "      display:flex;\n",
              "      flex-wrap:wrap;\n",
              "      gap: 12px;\n",
              "    }\n",
              "\n",
              "    .colab-df-convert {\n",
              "      background-color: #E8F0FE;\n",
              "      border: none;\n",
              "      border-radius: 50%;\n",
              "      cursor: pointer;\n",
              "      display: none;\n",
              "      fill: #1967D2;\n",
              "      height: 32px;\n",
              "      padding: 0 0 0 0;\n",
              "      width: 32px;\n",
              "    }\n",
              "\n",
              "    .colab-df-convert:hover {\n",
              "      background-color: #E2EBFA;\n",
              "      box-shadow: 0px 1px 2px rgba(60, 64, 67, 0.3), 0px 1px 3px 1px rgba(60, 64, 67, 0.15);\n",
              "      fill: #174EA6;\n",
              "    }\n",
              "\n",
              "    [theme=dark] .colab-df-convert {\n",
              "      background-color: #3B4455;\n",
              "      fill: #D2E3FC;\n",
              "    }\n",
              "\n",
              "    [theme=dark] .colab-df-convert:hover {\n",
              "      background-color: #434B5C;\n",
              "      box-shadow: 0px 1px 3px 1px rgba(0, 0, 0, 0.15);\n",
              "      filter: drop-shadow(0px 1px 2px rgba(0, 0, 0, 0.3));\n",
              "      fill: #FFFFFF;\n",
              "    }\n",
              "  </style>\n",
              "\n",
              "      <script>\n",
              "        const buttonEl =\n",
              "          document.querySelector('#df-3d3948d7-c406-40b1-bd8b-c73092f826ed button.colab-df-convert');\n",
              "        buttonEl.style.display =\n",
              "          google.colab.kernel.accessAllowed ? 'block' : 'none';\n",
              "\n",
              "        async function convertToInteractive(key) {\n",
              "          const element = document.querySelector('#df-3d3948d7-c406-40b1-bd8b-c73092f826ed');\n",
              "          const dataTable =\n",
              "            await google.colab.kernel.invokeFunction('convertToInteractive',\n",
              "                                                     [key], {});\n",
              "          if (!dataTable) return;\n",
              "\n",
              "          const docLinkHtml = 'Like what you see? Visit the ' +\n",
              "            '<a target=\"_blank\" href=https://colab.research.google.com/notebooks/data_table.ipynb>data table notebook</a>'\n",
              "            + ' to learn more about interactive tables.';\n",
              "          element.innerHTML = '';\n",
              "          dataTable['output_type'] = 'display_data';\n",
              "          await google.colab.output.renderOutput(dataTable, element);\n",
              "          const docLink = document.createElement('div');\n",
              "          docLink.innerHTML = docLinkHtml;\n",
              "          element.appendChild(docLink);\n",
              "        }\n",
              "      </script>\n",
              "    </div>\n",
              "  </div>\n",
              "  "
            ]
          },
          "metadata": {},
          "execution_count": 4
        },
        {
          "output_type": "display_data",
          "data": {
            "text/plain": [
              "<Figure size 200x200 with 1 Axes>"
            ],
            "image/png": "[encoded data removed]"
          },
          "metadata": {}
        }
      ]
    },
    {
      "cell_type": "code",
      "source": [
        "# shifting the data\n",
        "ytrue = Close['Close'][:-1]\n",
        "ypred = Close['Close'][1:]\n",
        "\n",
        "# visualizing this\n",
        "plt.figure(figsize=(10,10))\n",
        "plt.scatter(ytrue.index, ytrue, color='green', label='test', s=3, marker=\"+\")\n",
        "plt.scatter(ypred.index, ypred, color='purple', label='pred', s=3, marker=\"x\")\n",
        "plt.legend()"
      ],
      "metadata": {
        "colab": {
          "base_uri": "https://localhost:8080/",
          "height": 865
        },
        "id": "OAf3EQHbdSuK",
        "outputId": "880e8ff5-e4db-410d-f3a2-7299e203143d"
      },
      "execution_count": null,
      "outputs": [
        {
          "output_type": "execute_result",
          "data": {
            "text/plain": [
              "<matplotlib.legend.Legend at 0x7f4fe96bd540>"
            ]
          },
          "metadata": {},
          "execution_count": 5
        },
        {
          "output_type": "display_data",
          "data": {
            "text/plain": [
              "<Figure size 1000x1000 with 1 Axes>"
            ],
            "image/png": "[encoded data removed]"
          },
          "metadata": {}
        }
      ]
    },
    {
      "cell_type": "code",
      "source": [
        "from sklearn.metrics import accuracy_score\n",
        "y_true = Close['Move'][:-1]\n",
        "y_pred = Close['Move'][1:]\n",
        "accuracy_score(y_true, y_pred)"
      ],
      "metadata": {
        "colab": {
          "base_uri": "https://localhost:8080/"
        },
        "id": "DmMxfmdCdSrQ",
        "outputId": "3c62ed1b-3148-4925-abee-2fce7b2a6811"
      },
      "execution_count": null,
      "outputs": [
        {
          "output_type": "execute_result",
          "data": {
            "text/plain": [
              "0.6544428772919605"
            ]
          },
          "metadata": {},
          "execution_count": 6
        }
      ]
    },
    {
      "cell_type": "code",
      "source": [
        "from sklearn.metrics import precision_recall_fscore_support\n",
        "from sklearn.metrics import classification_report\n",
        "from sklearn.metrics import confusion_matrix\n",
        "cf_matrix = confusion_matrix(y_true, y_pred)\n",
        "sns.heatmap(cf_matrix, cmap='Blues')\n",
        "plt.show()\n",
        "print(classification_report(y_true, y_pred))"
      ],
      "metadata": {
        "colab": {
          "base_uri": "https://localhost:8080/",
          "height": 624
        },
        "id": "8aP5okNqdSot",
        "outputId": "34d72f8a-51d2-48c6-fdd5-ef8069f986da"
      },
      "execution_count": null,
      "outputs": [
        {
          "output_type": "display_data",
          "data": {
            "text/plain": [
              "<Figure size 640x480 with 2 Axes>"
            ],
            "image/png": "[encoded data removed]"
          },
          "metadata": {}
        },
        {
          "output_type": "stream",
          "name": "stdout",
          "text": [
            "              precision    recall  f1-score   support\n",
            "\n",
            "           0       0.17      0.17      0.17       244\n",
            "           1       0.80      0.80      0.80      1638\n",
            "           2       0.17      0.17      0.17       245\n",
            "\n",
            "    accuracy                           0.65      2127\n",
            "   macro avg       0.38      0.38      0.38      2127\n",
            "weighted avg       0.65      0.65      0.65      2127\n",
            "\n"
          ]
        }
      ]
    },
    {
      "cell_type": "markdown",
      "source": [
        "## Evaluations\n",
        "To access the performance of the models, we need to establish evaluations properly.\n",
        "This function will be called to append to the Evaluation dictionary."
      ],
      "metadata": {
        "id": "IkJU-j07nDmc"
      }
    },
    {
      "cell_type": "code",
      "source": [
        "# Setting up evaluation matrix\n",
        "def eval (y_true, y_pred):\n",
        "    y_pred = np.squeeze(y_pred)\n",
        "    precision, recall, f1, _ = precision_recall_fscore_support(y_true, y_pred, average='weighted')\n",
        "    accuracy = accuracy_score(y_true, y_pred)\n",
        "    clf_report = classification_report(y_true, y_pred)\n",
        "    cf_matrix = confusion_matrix(y_true, y_pred)\n",
        "\n",
        "    return {'accuracy':accuracy,\n",
        "            'precision': precision,\n",
        "            'recall': recall,\n",
        "            'f1': f1}, \\\n",
        "            {'classification_report': clf_report,\n",
        "            'confusion_matrix': cf_matrix}"
      ],
      "metadata": {
        "id": "3xqjsrCYi29N"
      },
      "execution_count": null,
      "outputs": []
    },
    {
      "cell_type": "code",
      "source": [
        "metrics_log = {}\n",
        "metrics_log['baseline'], _ = eval(y_true, y_pred)\n",
        "metrics_log"
      ],
      "metadata": {
        "colab": {
          "base_uri": "https://localhost:8080/"
        },
        "id": "FT1-lDobnJYy",
        "outputId": "03a12803-e875-4683-a02b-6f02abd142e6"
      },
      "execution_count": null,
      "outputs": [
        {
          "output_type": "execute_result",
          "data": {
            "text/plain": [
              "{'baseline': {'accuracy': 0.6544428772919605,\n",
              "  'precision': 0.6544428772919605,\n",
              "  'recall': 0.6544428772919605,\n",
              "  'f1': 0.6544428772919605}}"
            ]
          },
          "metadata": {},
          "execution_count": 9
        }
      ]
    },
    {
      "cell_type": "markdown",
      "source": [
        "# Model Experiments 🔬:\n",
        "\n",
        "\n",
        "To run a series of experiments. Starting with a simple model, then a CNN model then an LSTM model and pick the one with the best performance. After that, another series of experiments will be run to test out the features.\n",
        "\n",
        "Model Experiments:\n",
        "1. Simple 3 -layer NN\n",
        "2. CNN\n",
        "3. LSTM RNN\n",
        "4. 3-layer LSTM model with drop out.\n",
        "\n",
        "\n",
        "Hyperparameter Tuning.\n",
        "1. Batch size\n",
        "2. CNN layer\n",
        "3. Optimizers - SGD, Adamax."
      ],
      "metadata": {
        "id": "UxT5_hr5nWmU"
      }
    },
    {
      "cell_type": "markdown",
      "source": [
        "### Frequent Functions"
      ],
      "metadata": {
        "id": "k-qKcBo6oq8N"
      }
    },
    {
      "cell_type": "code",
      "source": [
        "from tensorflow.keras import layers\n",
        "from tensorflow.keras.utils import plot_model\n",
        "from tensorflow.keras.callbacks import ModelCheckpoint, EarlyStopping\n",
        "early_stop = EarlyStopping(monitor='accuracy', patience=10)\n",
        "from tensorflow import one_hot\n",
        "import tensorflow as tf"
      ],
      "metadata": {
        "id": "n9_0KlU9pVAv"
      },
      "execution_count": null,
      "outputs": []
    },
    {
      "cell_type": "code",
      "source": [
        "def model_evaluation(model, modelname, filepath, X_test, y_test, metrics_log=metrics_log):\n",
        "    \"\"\"loads the saved best performing model\n",
        "    and calls the eval function to evaluate it\n",
        "    \"\"\"\n",
        "    model.load_weights(filepath)\n",
        "    display(\"shape of x-te:\", X_test.shape)\n",
        "    y_pred = np.squeeze(model.predict(X_test)).argmax(axis=1)\n",
        "    display(\"shape of y_pred:\", y_pred.shape)\n",
        "    scores = eval(y_test, y_pred)\n",
        "    metrics_log[modelname] = scores[0]\n",
        "    display(metrics_log)\n",
        "    return scores\n",
        "\n",
        "\n",
        "def save_best(model):\n",
        "    \"\"\"\n",
        "    saves the best epoch performing weights into a filepath\n",
        "    that is based on the name of the model\n",
        "    \"\"\"\n",
        "    return tf.keras.callbacks.ModelCheckpoint(\n",
        "        filepath='output/'+model,\n",
        "        save_weights_only=True,\n",
        "        monitor='val_accuracy',\n",
        "        mode='auto',\n",
        "        save_best_only=True)\n",
        "\n",
        "# function to train test split the X and y\n",
        "def train_test_splits(data, test_split=0.2):\n",
        "    \"\"\"\n",
        "    Input: X and y\n",
        "    Output: X_train, X_test, y_train, y_test in that order\n",
        "    \"\"\"\n",
        "\n",
        "    # data = pd.concat([data[:'2021-10'], data['2022-06':]])\n",
        "    from sklearn.preprocessing import StandardScaler\n",
        "    scaler = StandardScaler()\n",
        "    tmp = data.copy()\n",
        "    X = tmp.drop(columns=['Forecast'])\n",
        "    y = tmp['Forecast'].values\n",
        "    X = scaler.fit_transform(X)\n",
        "\n",
        "    # save this scaler\n",
        "    import pickle\n",
        "    pickle.dump(scaler, open('output/model/scaler', 'wb'))\n",
        "\n",
        "\n",
        "    split = round(len(X) * (1-test_split))\n",
        "    # returns in order: X_train, X_test, y_train, y_test\n",
        "    X_train, X_test, y_train, y_test = X[:split], X[split:], y[:split], y[split:]\n",
        "\n",
        "    display (X_train.shape, X_test.shape, y_train.shape, y_test.shape)\n",
        "    return X_train, X_test, y_train, y_test,\n",
        "\n",
        "\n",
        "def train_model(model, data, model_name, epochs=1000):\n",
        "    # definining checkpoint\n",
        "    early_stop = EarlyStopping(monitor='loss', patience=10)\n",
        "    # train test split\n",
        "    X_train, X_test, y_train, y_test = train_test_splits(data)\n",
        "\n",
        "    history = model.fit(X_train,\n",
        "           y_train,\n",
        "           epochs=epochs,\n",
        "           verbose=1,\n",
        "           batch_size=128,\n",
        "           validation_data=(X_test, y_test),\n",
        "           callbacks=[early_stop, save_best(model_name)]\n",
        "           ) # create ModelCheckpoint callback to save best model\n",
        "\n",
        "    return history, 'output/'+model_name, X_test, y_test"
      ],
      "metadata": {
        "id": "xKgTjVetoqS9"
      },
      "execution_count": null,
      "outputs": []
    },
    {
      "cell_type": "markdown",
      "source": [
        "## 1. Experiment 1: Simple 3 - layer NN\n",
        "A single dense layer with\n",
        "- 128 hidden units and ReLU activation\n",
        "\n",
        "An output layer with\n",
        "- softmax activation\n",
        "- Adam optimizer and MAE loss function\n",
        "- Batch size of 128\n",
        "- 100 epochs"
      ],
      "metadata": {
        "id": "1DyH5P9VoReg"
      }
    },
    {
      "cell_type": "code",
      "source": [
        "# set up the train and test dataset\n",
        "X_train, X_test, y_train, y_test = train_test_splits(data, test_split=0.2)"
      ],
      "metadata": {
        "colab": {
          "base_uri": "https://localhost:8080/",
          "height": 88
        },
        "id": "ZVqShyFDtkSp",
        "outputId": "7607b9ca-662b-4880-d52a-244c705a403e"
      },
      "execution_count": null,
      "outputs": [
        {
          "output_type": "display_data",
          "data": {
            "text/plain": [
              "(1699, 8)"
            ]
          },
          "metadata": {}
        },
        {
          "output_type": "display_data",
          "data": {
            "text/plain": [
              "(425, 8)"
            ]
          },
          "metadata": {}
        },
        {
          "output_type": "display_data",
          "data": {
            "text/plain": [
              "(1699,)"
            ]
          },
          "metadata": {}
        },
        {
          "output_type": "display_data",
          "data": {
            "text/plain": [
              "(425,)"
            ]
          },
          "metadata": {}
        }
      ]
    },
    {
      "cell_type": "code",
      "source": [
        "# build and compile the model\n",
        "model_name = \"model1\"\n",
        "tf.random.set_seed(88)\n",
        "features = len(data.columns) - 1\n",
        "input = layers.Input(shape=(features,), name='input')\n",
        "scaling = layers.BatchNormalization(synchronized=True)(input)\n",
        "hidden = layers.Dense(128, activation='relu')(scaling)\n",
        "output = layers.Dense(3, activation=\"softmax\")(hidden)\n",
        "\n",
        "model1 = tf.keras.Model(inputs=input,\n",
        "                         outputs=output,\n",
        "                         name=model_name)\n",
        "# compile\n",
        "model1.compile(loss=\"sparse_categorical_crossentropy\",\n",
        "                optimizer=tf.keras.optimizers.Adam(),\n",
        "                metrics=[\"accuracy\"])\n",
        "# visualize\n",
        "plot_model(model1, show_shapes=True)"
      ],
      "metadata": {
        "colab": {
          "base_uri": "https://localhost:8080/",
          "height": 422
        },
        "id": "PDYUSVhEtm55",
        "outputId": "37b5f21b-fabe-415a-b8f1-c4c3e8de8cd0"
      },
      "execution_count": null,
      "outputs": [
        {
          "output_type": "execute_result",
          "data": {
            "image/png": "[encoded data removed]",
            "text/plain": [
              "<IPython.core.display.Image object>"
            ]
          },
          "metadata": {},
          "execution_count": 14
        }
      ]
    },
    {
      "cell_type": "code",
      "source": [
        "history, filepath, X_test, y_test = train_model(model1, data, model_name, epochs=200)\n",
        "model_evaluation(model1, model_name, filepath, X_test, y_test)"
      ],
      "metadata": {
        "id": "f6-vYBviuCMg",
        "colab": {
          "base_uri": "https://localhost:8080/",
          "height": 1000
        },
        "outputId": "b7425323-f21b-4694-babf-4601cfef3a2b"
      },
      "execution_count": null,
      "outputs": [
        {
          "output_type": "display_data",
          "data": {
            "text/plain": [
              "(1699, 8)"
            ]
          },
          "metadata": {}
        },
        {
          "output_type": "display_data",
          "data": {
            "text/plain": [
              "(425, 8)"
            ]
          },
          "metadata": {}
        },
        {
          "output_type": "display_data",
          "data": {
            "text/plain": [
              "(1699,)"
            ]
          },
          "metadata": {}
        },
        {
          "output_type": "display_data",
          "data": {
            "text/plain": [
              "(425,)"
            ]
          },
          "metadata": {}
        },
        {
          "output_type": "stream",
          "name": "stdout",
          "text": [
            "Epoch 1/200\n",
            "14/14 [==============================] - 2s 31ms/step - loss: 0.9880 - accuracy: 0.6539 - val_loss: 0.9484 - val_accuracy: 0.6776\n",
            "Epoch 2/200\n",
            "14/14 [==============================] - 0s 4ms/step - loss: 0.8226 - accuracy: 0.7911 - val_loss: 0.9483 - val_accuracy: 0.6776\n",
            "Epoch 3/200\n",
            "14/14 [==============================] - 0s 5ms/step - loss: 0.7609 - accuracy: 0.7928 - val_loss: 0.9743 - val_accuracy: 0.6776\n",
            "Epoch 4/200\n",
            "14/14 [==============================] - 0s 5ms/step - loss: 0.7316 - accuracy: 0.7928 - val_loss: 0.9827 - val_accuracy: 0.6776\n",
            "Epoch 5/200\n",
            "14/14 [==============================] - 0s 6ms/step - loss: 0.7067 - accuracy: 0.7928 - val_loss: 0.9721 - val_accuracy: 0.6776\n",
            "Epoch 6/200\n",
            "14/14 [==============================] - 0s 5ms/step - loss: 0.6937 - accuracy: 0.7928 - val_loss: 0.9724 - val_accuracy: 0.6776\n",
            "Epoch 7/200\n",
            "14/14 [==============================] - 0s 5ms/step - loss: 0.6769 - accuracy: 0.7928 - val_loss: 0.9675 - val_accuracy: 0.6776\n",
            "Epoch 8/200\n",
            "14/14 [==============================] - 0s 5ms/step - loss: 0.6702 - accuracy: 0.7928 - val_loss: 0.9733 - val_accuracy: 0.6776\n",
            "Epoch 9/200\n",
            "14/14 [==============================] - 0s 4ms/step - loss: 0.6604 - accuracy: 0.7940 - val_loss: 0.9667 - val_accuracy: 0.6776\n",
            "Epoch 10/200\n",
            "14/14 [==============================] - 0s 5ms/step - loss: 0.6526 - accuracy: 0.7940 - val_loss: 0.9769 - val_accuracy: 0.6776\n",
            "Epoch 11/200\n",
            "14/14 [==============================] - 0s 6ms/step - loss: 0.6455 - accuracy: 0.7940 - val_loss: 0.9760 - val_accuracy: 0.6776\n",
            "Epoch 12/200\n",
            "14/14 [==============================] - 0s 5ms/step - loss: 0.6422 - accuracy: 0.7940 - val_loss: 0.9764 - val_accuracy: 0.6753\n",
            "Epoch 13/200\n",
            "14/14 [==============================] - 0s 4ms/step - loss: 0.6373 - accuracy: 0.7940 - val_loss: 0.9689 - val_accuracy: 0.6753\n",
            "Epoch 14/200\n",
            "14/14 [==============================] - 0s 5ms/step - loss: 0.6327 - accuracy: 0.7946 - val_loss: 0.9722 - val_accuracy: 0.6729\n",
            "Epoch 15/200\n",
            "14/14 [==============================] - 0s 4ms/step - loss: 0.6301 - accuracy: 0.7952 - val_loss: 0.9685 - val_accuracy: 0.6729\n",
            "Epoch 16/200\n",
            "14/14 [==============================] - 0s 5ms/step - loss: 0.6277 - accuracy: 0.7958 - val_loss: 0.9548 - val_accuracy: 0.6729\n",
            "Epoch 17/200\n",
            "14/14 [==============================] - 0s 5ms/step - loss: 0.6226 - accuracy: 0.7958 - val_loss: 0.9587 - val_accuracy: 0.6706\n",
            "Epoch 18/200\n",
            "14/14 [==============================] - 0s 5ms/step - loss: 0.6212 - accuracy: 0.7934 - val_loss: 0.9599 - val_accuracy: 0.6776\n",
            "Epoch 19/200\n",
            "14/14 [==============================] - 0s 5ms/step - loss: 0.6174 - accuracy: 0.7946 - val_loss: 0.9508 - val_accuracy: 0.6706\n",
            "Epoch 20/200\n",
            "14/14 [==============================] - 0s 6ms/step - loss: 0.6163 - accuracy: 0.7952 - val_loss: 0.9534 - val_accuracy: 0.6682\n",
            "Epoch 21/200\n",
            "14/14 [==============================] - 0s 4ms/step - loss: 0.6145 - accuracy: 0.7964 - val_loss: 0.9639 - val_accuracy: 0.6776\n",
            "Epoch 22/200\n",
            "14/14 [==============================] - 0s 5ms/step - loss: 0.6124 - accuracy: 0.7952 - val_loss: 0.9490 - val_accuracy: 0.6776\n",
            "Epoch 23/200\n",
            "14/14 [==============================] - 0s 5ms/step - loss: 0.6125 - accuracy: 0.7975 - val_loss: 0.9426 - val_accuracy: 0.6729\n",
            "Epoch 24/200\n",
            "14/14 [==============================] - 0s 4ms/step - loss: 0.6113 - accuracy: 0.7958 - val_loss: 0.9458 - val_accuracy: 0.6706\n",
            "Epoch 25/200\n",
            "14/14 [==============================] - 0s 5ms/step - loss: 0.6058 - accuracy: 0.7964 - val_loss: 0.9466 - val_accuracy: 0.6729\n",
            "Epoch 26/200\n",
            "14/14 [==============================] - 0s 5ms/step - loss: 0.6085 - accuracy: 0.7964 - val_loss: 0.9460 - val_accuracy: 0.6729\n",
            "Epoch 27/200\n",
            "14/14 [==============================] - 0s 6ms/step - loss: 0.6032 - accuracy: 0.7952 - val_loss: 0.9333 - val_accuracy: 0.6706\n",
            "Epoch 28/200\n",
            "14/14 [==============================] - 0s 5ms/step - loss: 0.6031 - accuracy: 0.7981 - val_loss: 0.9338 - val_accuracy: 0.6706\n",
            "Epoch 29/200\n",
            "14/14 [==============================] - 0s 6ms/step - loss: 0.6042 - accuracy: 0.7952 - val_loss: 0.9407 - val_accuracy: 0.6682\n",
            "Epoch 30/200\n",
            "14/14 [==============================] - 0s 5ms/step - loss: 0.6029 - accuracy: 0.7964 - val_loss: 0.9378 - val_accuracy: 0.6753\n",
            "Epoch 31/200\n",
            "14/14 [==============================] - 0s 5ms/step - loss: 0.6012 - accuracy: 0.7981 - val_loss: 0.9288 - val_accuracy: 0.6729\n",
            "Epoch 32/200\n",
            "14/14 [==============================] - 0s 7ms/step - loss: 0.5988 - accuracy: 0.7964 - val_loss: 0.9346 - val_accuracy: 0.6753\n",
            "Epoch 33/200\n",
            "14/14 [==============================] - 0s 5ms/step - loss: 0.5996 - accuracy: 0.7975 - val_loss: 0.9328 - val_accuracy: 0.6753\n",
            "Epoch 34/200\n",
            "14/14 [==============================] - 0s 6ms/step - loss: 0.5994 - accuracy: 0.7975 - val_loss: 0.9249 - val_accuracy: 0.6753\n",
            "Epoch 35/200\n",
            "14/14 [==============================] - 0s 7ms/step - loss: 0.5968 - accuracy: 0.7999 - val_loss: 0.9258 - val_accuracy: 0.6776\n",
            "Epoch 36/200\n",
            "14/14 [==============================] - 0s 5ms/step - loss: 0.5941 - accuracy: 0.7987 - val_loss: 0.9322 - val_accuracy: 0.6753\n",
            "Epoch 37/200\n",
            "14/14 [==============================] - 0s 6ms/step - loss: 0.5971 - accuracy: 0.7975 - val_loss: 0.9372 - val_accuracy: 0.6753\n",
            "Epoch 38/200\n",
            "14/14 [==============================] - 0s 5ms/step - loss: 0.5965 - accuracy: 0.7981 - val_loss: 0.9252 - val_accuracy: 0.6776\n",
            "Epoch 39/200\n",
            "14/14 [==============================] - 0s 6ms/step - loss: 0.5975 - accuracy: 0.7964 - val_loss: 0.9248 - val_accuracy: 0.6729\n",
            "Epoch 40/200\n",
            "14/14 [==============================] - 0s 6ms/step - loss: 0.5956 - accuracy: 0.7969 - val_loss: 0.9366 - val_accuracy: 0.6753\n",
            "Epoch 41/200\n",
            "14/14 [==============================] - 0s 4ms/step - loss: 0.5944 - accuracy: 0.7999 - val_loss: 0.9318 - val_accuracy: 0.6753\n",
            "Epoch 42/200\n",
            "14/14 [==============================] - 0s 6ms/step - loss: 0.5942 - accuracy: 0.7975 - val_loss: 0.9214 - val_accuracy: 0.6729\n",
            "Epoch 43/200\n",
            "14/14 [==============================] - 0s 6ms/step - loss: 0.5949 - accuracy: 0.7964 - val_loss: 0.9302 - val_accuracy: 0.6753\n",
            "Epoch 44/200\n",
            "14/14 [==============================] - 0s 6ms/step - loss: 0.5920 - accuracy: 0.7958 - val_loss: 0.9277 - val_accuracy: 0.6753\n",
            "Epoch 45/200\n",
            "14/14 [==============================] - 0s 5ms/step - loss: 0.5930 - accuracy: 0.7969 - val_loss: 0.9206 - val_accuracy: 0.6776\n",
            "Epoch 46/200\n",
            "14/14 [==============================] - 0s 7ms/step - loss: 0.5918 - accuracy: 0.7975 - val_loss: 0.9284 - val_accuracy: 0.6776\n",
            "Epoch 47/200\n",
            "14/14 [==============================] - 0s 5ms/step - loss: 0.5901 - accuracy: 0.7958 - val_loss: 0.9251 - val_accuracy: 0.6753\n",
            "Epoch 48/200\n",
            "14/14 [==============================] - 0s 6ms/step - loss: 0.5894 - accuracy: 0.7987 - val_loss: 0.9270 - val_accuracy: 0.6753\n",
            "Epoch 49/200\n",
            "14/14 [==============================] - 0s 6ms/step - loss: 0.5910 - accuracy: 0.7987 - val_loss: 0.9279 - val_accuracy: 0.6753\n",
            "Epoch 50/200\n",
            "14/14 [==============================] - 0s 5ms/step - loss: 0.5904 - accuracy: 0.7969 - val_loss: 0.9252 - val_accuracy: 0.6753\n",
            "Epoch 51/200\n",
            "14/14 [==============================] - 0s 6ms/step - loss: 0.5902 - accuracy: 0.7987 - val_loss: 0.9217 - val_accuracy: 0.6753\n",
            "Epoch 52/200\n",
            "14/14 [==============================] - 0s 4ms/step - loss: 0.5863 - accuracy: 0.7981 - val_loss: 0.9252 - val_accuracy: 0.6753\n",
            "Epoch 53/200\n",
            "14/14 [==============================] - 0s 5ms/step - loss: 0.5860 - accuracy: 0.7981 - val_loss: 0.9336 - val_accuracy: 0.6706\n",
            "Epoch 54/200\n",
            "14/14 [==============================] - 0s 4ms/step - loss: 0.5853 - accuracy: 0.7975 - val_loss: 0.9379 - val_accuracy: 0.6776\n",
            "Epoch 55/200\n",
            "14/14 [==============================] - 0s 5ms/step - loss: 0.5856 - accuracy: 0.7987 - val_loss: 0.9361 - val_accuracy: 0.6753\n",
            "Epoch 56/200\n",
            "14/14 [==============================] - 0s 6ms/step - loss: 0.5843 - accuracy: 0.7981 - val_loss: 0.9321 - val_accuracy: 0.6753\n",
            "Epoch 57/200\n",
            "14/14 [==============================] - 0s 6ms/step - loss: 0.5888 - accuracy: 0.7964 - val_loss: 0.9346 - val_accuracy: 0.6776\n",
            "Epoch 58/200\n",
            "14/14 [==============================] - 0s 6ms/step - loss: 0.5876 - accuracy: 0.7981 - val_loss: 0.9238 - val_accuracy: 0.6776\n",
            "Epoch 59/200\n",
            "14/14 [==============================] - 0s 6ms/step - loss: 0.5865 - accuracy: 0.7964 - val_loss: 0.9286 - val_accuracy: 0.6800\n",
            "Epoch 60/200\n",
            "14/14 [==============================] - 0s 7ms/step - loss: 0.5817 - accuracy: 0.7981 - val_loss: 0.9325 - val_accuracy: 0.6824\n",
            "Epoch 61/200\n",
            "14/14 [==============================] - 0s 4ms/step - loss: 0.5828 - accuracy: 0.7987 - val_loss: 0.9247 - val_accuracy: 0.6753\n",
            "Epoch 62/200\n",
            "14/14 [==============================] - 0s 4ms/step - loss: 0.5786 - accuracy: 0.8022 - val_loss: 0.9319 - val_accuracy: 0.6682\n",
            "Epoch 63/200\n",
            "14/14 [==============================] - 0s 5ms/step - loss: 0.5836 - accuracy: 0.7975 - val_loss: 0.9410 - val_accuracy: 0.6776\n",
            "Epoch 64/200\n",
            "14/14 [==============================] - 0s 4ms/step - loss: 0.5839 - accuracy: 0.7964 - val_loss: 0.9420 - val_accuracy: 0.6776\n",
            "Epoch 65/200\n",
            "14/14 [==============================] - 0s 4ms/step - loss: 0.5847 - accuracy: 0.7958 - val_loss: 0.9352 - val_accuracy: 0.6776\n",
            "Epoch 66/200\n",
            "14/14 [==============================] - 0s 5ms/step - loss: 0.5804 - accuracy: 0.7999 - val_loss: 0.9323 - val_accuracy: 0.6776\n",
            "Epoch 67/200\n",
            "14/14 [==============================] - 0s 4ms/step - loss: 0.5804 - accuracy: 0.7993 - val_loss: 0.9445 - val_accuracy: 0.6706\n",
            "Epoch 68/200\n",
            "14/14 [==============================] - 0s 5ms/step - loss: 0.5811 - accuracy: 0.7987 - val_loss: 0.9447 - val_accuracy: 0.6753\n",
            "Epoch 69/200\n",
            "14/14 [==============================] - 0s 5ms/step - loss: 0.5800 - accuracy: 0.7999 - val_loss: 0.9439 - val_accuracy: 0.6776\n",
            "Epoch 70/200\n",
            "14/14 [==============================] - 0s 5ms/step - loss: 0.5804 - accuracy: 0.8005 - val_loss: 0.9301 - val_accuracy: 0.6753\n",
            "Epoch 71/200\n",
            "14/14 [==============================] - 0s 5ms/step - loss: 0.5783 - accuracy: 0.8016 - val_loss: 0.9413 - val_accuracy: 0.6729\n",
            "Epoch 72/200\n",
            "14/14 [==============================] - 0s 5ms/step - loss: 0.5810 - accuracy: 0.7975 - val_loss: 0.9336 - val_accuracy: 0.6800\n",
            "Epoch 73/200\n",
            "14/14 [==============================] - 0s 5ms/step - loss: 0.5800 - accuracy: 0.7987 - val_loss: 0.9405 - val_accuracy: 0.6706\n",
            "Epoch 74/200\n",
            "14/14 [==============================] - 0s 4ms/step - loss: 0.5763 - accuracy: 0.8011 - val_loss: 0.9404 - val_accuracy: 0.6682\n",
            "Epoch 75/200\n",
            "14/14 [==============================] - 0s 5ms/step - loss: 0.5785 - accuracy: 0.8028 - val_loss: 0.9352 - val_accuracy: 0.6753\n",
            "Epoch 76/200\n",
            "14/14 [==============================] - 0s 5ms/step - loss: 0.5787 - accuracy: 0.7981 - val_loss: 0.9495 - val_accuracy: 0.6729\n",
            "Epoch 77/200\n",
            "14/14 [==============================] - 0s 5ms/step - loss: 0.5794 - accuracy: 0.7993 - val_loss: 0.9324 - val_accuracy: 0.6729\n",
            "Epoch 78/200\n",
            "14/14 [==============================] - 0s 5ms/step - loss: 0.5754 - accuracy: 0.7993 - val_loss: 0.9384 - val_accuracy: 0.6776\n",
            "Epoch 79/200\n",
            "14/14 [==============================] - 0s 4ms/step - loss: 0.5750 - accuracy: 0.7981 - val_loss: 0.9459 - val_accuracy: 0.6800\n",
            "Epoch 80/200\n",
            "14/14 [==============================] - 0s 5ms/step - loss: 0.5745 - accuracy: 0.7975 - val_loss: 0.9387 - val_accuracy: 0.6729\n",
            "Epoch 81/200\n",
            "14/14 [==============================] - 0s 5ms/step - loss: 0.5763 - accuracy: 0.7987 - val_loss: 0.9382 - val_accuracy: 0.6776\n",
            "Epoch 82/200\n",
            "14/14 [==============================] - 0s 6ms/step - loss: 0.5775 - accuracy: 0.7987 - val_loss: 0.9458 - val_accuracy: 0.6729\n",
            "Epoch 83/200\n",
            "14/14 [==============================] - 0s 6ms/step - loss: 0.5739 - accuracy: 0.7993 - val_loss: 0.9440 - val_accuracy: 0.6776\n",
            "Epoch 84/200\n",
            "14/14 [==============================] - 0s 5ms/step - loss: 0.5698 - accuracy: 0.8022 - val_loss: 0.9368 - val_accuracy: 0.6753\n",
            "Epoch 85/200\n",
            "14/14 [==============================] - 0s 6ms/step - loss: 0.5769 - accuracy: 0.7987 - val_loss: 0.9409 - val_accuracy: 0.6729\n",
            "Epoch 86/200\n",
            "14/14 [==============================] - 0s 6ms/step - loss: 0.5704 - accuracy: 0.8028 - val_loss: 0.9391 - val_accuracy: 0.6706\n",
            "Epoch 87/200\n",
            "14/14 [==============================] - 0s 6ms/step - loss: 0.5743 - accuracy: 0.7981 - val_loss: 0.9493 - val_accuracy: 0.6753\n",
            "Epoch 88/200\n",
            "14/14 [==============================] - 0s 4ms/step - loss: 0.5698 - accuracy: 0.8005 - val_loss: 0.9447 - val_accuracy: 0.6706\n",
            "Epoch 89/200\n",
            "14/14 [==============================] - 0s 5ms/step - loss: 0.5737 - accuracy: 0.7981 - val_loss: 0.9553 - val_accuracy: 0.6776\n",
            "Epoch 90/200\n",
            "14/14 [==============================] - 0s 5ms/step - loss: 0.5742 - accuracy: 0.7987 - val_loss: 0.9550 - val_accuracy: 0.6753\n",
            "Epoch 91/200\n",
            "14/14 [==============================] - 0s 5ms/step - loss: 0.5715 - accuracy: 0.7975 - val_loss: 0.9568 - val_accuracy: 0.6753\n",
            "Epoch 92/200\n",
            "14/14 [==============================] - 0s 4ms/step - loss: 0.5723 - accuracy: 0.7981 - val_loss: 0.9523 - val_accuracy: 0.6776\n",
            "Epoch 93/200\n",
            "14/14 [==============================] - 0s 5ms/step - loss: 0.5708 - accuracy: 0.7969 - val_loss: 0.9516 - val_accuracy: 0.6753\n",
            "Epoch 94/200\n",
            "14/14 [==============================] - 0s 4ms/step - loss: 0.5693 - accuracy: 0.7993 - val_loss: 0.9535 - val_accuracy: 0.6753\n",
            "Epoch 95/200\n",
            "14/14 [==============================] - 0s 5ms/step - loss: 0.5703 - accuracy: 0.8005 - val_loss: 0.9545 - val_accuracy: 0.6729\n",
            "Epoch 96/200\n",
            "14/14 [==============================] - 0s 6ms/step - loss: 0.5697 - accuracy: 0.8005 - val_loss: 0.9471 - val_accuracy: 0.6776\n",
            "Epoch 97/200\n",
            "14/14 [==============================] - 0s 6ms/step - loss: 0.5665 - accuracy: 0.8005 - val_loss: 0.9463 - val_accuracy: 0.6753\n",
            "Epoch 98/200\n",
            "14/14 [==============================] - 0s 5ms/step - loss: 0.5664 - accuracy: 0.7993 - val_loss: 0.9523 - val_accuracy: 0.6753\n",
            "Epoch 99/200\n",
            "14/14 [==============================] - 0s 5ms/step - loss: 0.5684 - accuracy: 0.7999 - val_loss: 0.9526 - val_accuracy: 0.6753\n",
            "Epoch 100/200\n",
            "14/14 [==============================] - 0s 5ms/step - loss: 0.5657 - accuracy: 0.8022 - val_loss: 0.9542 - val_accuracy: 0.6753\n",
            "Epoch 101/200\n",
            "14/14 [==============================] - 0s 6ms/step - loss: 0.5712 - accuracy: 0.7993 - val_loss: 0.9513 - val_accuracy: 0.6753\n",
            "Epoch 102/200\n",
            "14/14 [==============================] - 0s 4ms/step - loss: 0.5667 - accuracy: 0.8016 - val_loss: 0.9561 - val_accuracy: 0.6729\n",
            "Epoch 103/200\n",
            "14/14 [==============================] - 0s 6ms/step - loss: 0.5665 - accuracy: 0.8005 - val_loss: 0.9408 - val_accuracy: 0.6753\n",
            "Epoch 104/200\n",
            "14/14 [==============================] - 0s 5ms/step - loss: 0.5688 - accuracy: 0.7964 - val_loss: 0.9576 - val_accuracy: 0.6753\n",
            "Epoch 105/200\n",
            "14/14 [==============================] - 0s 4ms/step - loss: 0.5632 - accuracy: 0.8011 - val_loss: 0.9584 - val_accuracy: 0.6800\n",
            "Epoch 106/200\n",
            "14/14 [==============================] - 0s 6ms/step - loss: 0.5671 - accuracy: 0.8005 - val_loss: 0.9649 - val_accuracy: 0.6753\n",
            "Epoch 107/200\n",
            "14/14 [==============================] - 0s 6ms/step - loss: 0.5650 - accuracy: 0.8011 - val_loss: 0.9578 - val_accuracy: 0.6729\n",
            "Epoch 108/200\n",
            "14/14 [==============================] - 0s 6ms/step - loss: 0.5690 - accuracy: 0.7987 - val_loss: 0.9531 - val_accuracy: 0.6706\n",
            "Epoch 109/200\n",
            "14/14 [==============================] - 0s 6ms/step - loss: 0.5618 - accuracy: 0.8016 - val_loss: 0.9646 - val_accuracy: 0.6776\n",
            "Epoch 110/200\n",
            "14/14 [==============================] - 0s 5ms/step - loss: 0.5658 - accuracy: 0.8005 - val_loss: 0.9604 - val_accuracy: 0.6776\n",
            "Epoch 111/200\n",
            "14/14 [==============================] - 0s 6ms/step - loss: 0.5622 - accuracy: 0.8016 - val_loss: 0.9720 - val_accuracy: 0.6753\n",
            "Epoch 112/200\n",
            "14/14 [==============================] - 0s 6ms/step - loss: 0.5615 - accuracy: 0.8040 - val_loss: 0.9604 - val_accuracy: 0.6682\n",
            "Epoch 113/200\n",
            "14/14 [==============================] - 0s 7ms/step - loss: 0.5625 - accuracy: 0.8005 - val_loss: 0.9708 - val_accuracy: 0.6729\n",
            "Epoch 114/200\n",
            "14/14 [==============================] - 0s 6ms/step - loss: 0.5635 - accuracy: 0.8016 - val_loss: 0.9590 - val_accuracy: 0.6753\n",
            "Epoch 115/200\n",
            "14/14 [==============================] - 0s 6ms/step - loss: 0.5578 - accuracy: 0.8052 - val_loss: 0.9649 - val_accuracy: 0.6682\n",
            "Epoch 116/200\n",
            "14/14 [==============================] - 0s 4ms/step - loss: 0.5571 - accuracy: 0.8046 - val_loss: 0.9650 - val_accuracy: 0.6753\n",
            "Epoch 117/200\n",
            "14/14 [==============================] - 0s 5ms/step - loss: 0.5612 - accuracy: 0.8005 - val_loss: 0.9583 - val_accuracy: 0.6706\n",
            "Epoch 118/200\n",
            "14/14 [==============================] - 0s 6ms/step - loss: 0.5608 - accuracy: 0.7999 - val_loss: 0.9757 - val_accuracy: 0.6753\n",
            "Epoch 119/200\n",
            "14/14 [==============================] - 0s 6ms/step - loss: 0.5634 - accuracy: 0.8022 - val_loss: 0.9593 - val_accuracy: 0.6729\n",
            "Epoch 120/200\n",
            "14/14 [==============================] - 0s 6ms/step - loss: 0.5587 - accuracy: 0.8064 - val_loss: 0.9706 - val_accuracy: 0.6753\n",
            "Epoch 121/200\n",
            "14/14 [==============================] - 0s 5ms/step - loss: 0.5603 - accuracy: 0.8022 - val_loss: 0.9629 - val_accuracy: 0.6729\n",
            "Epoch 122/200\n",
            "14/14 [==============================] - 0s 6ms/step - loss: 0.5570 - accuracy: 0.8040 - val_loss: 0.9608 - val_accuracy: 0.6682\n",
            "Epoch 123/200\n",
            "14/14 [==============================] - 0s 6ms/step - loss: 0.5625 - accuracy: 0.7993 - val_loss: 0.9713 - val_accuracy: 0.6753\n",
            "Epoch 124/200\n",
            "14/14 [==============================] - 0s 6ms/step - loss: 0.5649 - accuracy: 0.8016 - val_loss: 0.9545 - val_accuracy: 0.6729\n",
            "Epoch 125/200\n",
            "14/14 [==============================] - 0s 6ms/step - loss: 0.5585 - accuracy: 0.8028 - val_loss: 0.9739 - val_accuracy: 0.6729\n",
            "Epoch 126/200\n",
            "14/14 [==============================] - 0s 7ms/step - loss: 0.5572 - accuracy: 0.8046 - val_loss: 0.9756 - val_accuracy: 0.6682\n",
            "Epoch 127/200\n",
            "14/14 [==============================] - 0s 7ms/step - loss: 0.5566 - accuracy: 0.8028 - val_loss: 0.9756 - val_accuracy: 0.6729\n",
            "Epoch 128/200\n",
            "14/14 [==============================] - 0s 8ms/step - loss: 0.5573 - accuracy: 0.8028 - val_loss: 0.9661 - val_accuracy: 0.6729\n",
            "Epoch 129/200\n",
            "14/14 [==============================] - 0s 7ms/step - loss: 0.5569 - accuracy: 0.7993 - val_loss: 0.9804 - val_accuracy: 0.6729\n",
            "Epoch 130/200\n",
            "14/14 [==============================] - 0s 7ms/step - loss: 0.5582 - accuracy: 0.8034 - val_loss: 0.9833 - val_accuracy: 0.6776\n",
            "Epoch 131/200\n",
            "14/14 [==============================] - 0s 12ms/step - loss: 0.5544 - accuracy: 0.8034 - val_loss: 0.9637 - val_accuracy: 0.6729\n",
            "Epoch 132/200\n",
            "14/14 [==============================] - 0s 9ms/step - loss: 0.5562 - accuracy: 0.8046 - val_loss: 0.9648 - val_accuracy: 0.6706\n",
            "Epoch 133/200\n",
            "14/14 [==============================] - 0s 9ms/step - loss: 0.5533 - accuracy: 0.8016 - val_loss: 0.9847 - val_accuracy: 0.6753\n",
            "Epoch 134/200\n",
            "14/14 [==============================] - 0s 7ms/step - loss: 0.5551 - accuracy: 0.8011 - val_loss: 0.9740 - val_accuracy: 0.6706\n",
            "Epoch 135/200\n",
            "14/14 [==============================] - 0s 7ms/step - loss: 0.5523 - accuracy: 0.8034 - val_loss: 0.9772 - val_accuracy: 0.6729\n",
            "Epoch 136/200\n",
            "14/14 [==============================] - 0s 8ms/step - loss: 0.5558 - accuracy: 0.8011 - val_loss: 0.9733 - val_accuracy: 0.6729\n",
            "Epoch 137/200\n",
            "14/14 [==============================] - 0s 7ms/step - loss: 0.5568 - accuracy: 0.7987 - val_loss: 0.9853 - val_accuracy: 0.6729\n",
            "Epoch 138/200\n",
            "14/14 [==============================] - 0s 8ms/step - loss: 0.5549 - accuracy: 0.8052 - val_loss: 0.9806 - val_accuracy: 0.6753\n",
            "Epoch 139/200\n",
            "14/14 [==============================] - 0s 7ms/step - loss: 0.5495 - accuracy: 0.8034 - val_loss: 0.9605 - val_accuracy: 0.6659\n",
            "Epoch 140/200\n",
            "14/14 [==============================] - 0s 12ms/step - loss: 0.5536 - accuracy: 0.8011 - val_loss: 0.9799 - val_accuracy: 0.6753\n",
            "Epoch 141/200\n",
            "14/14 [==============================] - 0s 9ms/step - loss: 0.5533 - accuracy: 0.8052 - val_loss: 0.9700 - val_accuracy: 0.6635\n",
            "Epoch 142/200\n",
            "14/14 [==============================] - 0s 8ms/step - loss: 0.5526 - accuracy: 0.8058 - val_loss: 0.9802 - val_accuracy: 0.6682\n",
            "Epoch 143/200\n",
            "14/14 [==============================] - 0s 9ms/step - loss: 0.5555 - accuracy: 0.8046 - val_loss: 0.9711 - val_accuracy: 0.6682\n",
            "Epoch 144/200\n",
            "14/14 [==============================] - 0s 7ms/step - loss: 0.5524 - accuracy: 0.8040 - val_loss: 0.9790 - val_accuracy: 0.6729\n",
            "Epoch 145/200\n",
            "14/14 [==============================] - 0s 6ms/step - loss: 0.5510 - accuracy: 0.8064 - val_loss: 0.9827 - val_accuracy: 0.6706\n",
            "Epoch 146/200\n",
            "14/14 [==============================] - 0s 7ms/step - loss: 0.5530 - accuracy: 0.8034 - val_loss: 0.9885 - val_accuracy: 0.6682\n",
            "Epoch 147/200\n",
            "14/14 [==============================] - 0s 8ms/step - loss: 0.5502 - accuracy: 0.8011 - val_loss: 0.9874 - val_accuracy: 0.6682\n",
            "Epoch 148/200\n",
            "14/14 [==============================] - 0s 7ms/step - loss: 0.5500 - accuracy: 0.8016 - val_loss: 0.9906 - val_accuracy: 0.6682\n",
            "Epoch 149/200\n",
            "14/14 [==============================] - 0s 7ms/step - loss: 0.5538 - accuracy: 0.8022 - val_loss: 0.9758 - val_accuracy: 0.6706\n"
          ]
        },
        {
          "output_type": "display_data",
          "data": {
            "text/plain": [
              "'shape of x-te:'"
            ],
            "application/vnd.google.colaboratory.intrinsic+json": {
              "type": "string"
            }
          },
          "metadata": {}
        },
        {
          "output_type": "display_data",
          "data": {
            "text/plain": [
              "(425, 8)"
            ]
          },
          "metadata": {}
        },
        {
          "output_type": "stream",
          "name": "stdout",
          "text": [
            "14/14 [==============================] - 0s 2ms/step\n"
          ]
        },
        {
          "output_type": "display_data",
          "data": {
            "text/plain": [
              "'shape of y_pred:'"
            ],
            "application/vnd.google.colaboratory.intrinsic+json": {
              "type": "string"
            }
          },
          "metadata": {}
        },
        {
          "output_type": "display_data",
          "data": {
            "text/plain": [
              "(425,)"
            ]
          },
          "metadata": {}
        },
        {
          "output_type": "display_data",
          "data": {
            "text/plain": [
              "{'baseline': {'accuracy': 0.6544428772919605,\n",
              "  'precision': 0.6544428772919605,\n",
              "  'recall': 0.6544428772919605,\n",
              "  'f1': 0.6544428772919605},\n",
              " 'model1': {'accuracy': 0.6823529411764706,\n",
              "  'precision': 0.6481568627450981,\n",
              "  'recall': 0.6823529411764706,\n",
              "  'f1': 0.5629476314645805}}"
            ]
          },
          "metadata": {}
        },
        {
          "output_type": "execute_result",
          "data": {
            "text/plain": [
              "({'accuracy': 0.6823529411764706,\n",
              "  'precision': 0.6481568627450981,\n",
              "  'recall': 0.6823529411764706,\n",
              "  'f1': 0.5629476314645805},\n",
              " {'classification_report': '              precision    recall  f1-score   support\\n\\n         0.0       0.67      0.03      0.06        61\\n         1.0       0.68      1.00      0.81       288\\n         2.0       0.50      0.01      0.03        76\\n\\n    accuracy                           0.68       425\\n   macro avg       0.62      0.35      0.30       425\\nweighted avg       0.65      0.68      0.56       425\\n',\n",
              "  'confusion_matrix': array([[  2,  58,   1],\n",
              "         [  1, 287,   0],\n",
              "         [  0,  75,   1]])})"
            ]
          },
          "metadata": {},
          "execution_count": 15
        }
      ]
    },
    {
      "cell_type": "markdown",
      "source": [
        "## Model 2: CNN"
      ],
      "metadata": {
        "id": "6gfq4H4zIV96"
      }
    },
    {
      "cell_type": "code",
      "source": [
        "# set random seed for reproducible results\n",
        "tf.random.set_seed(88)\n",
        "# construct model\n",
        "model_name = 'model2'\n",
        "features = len(data.columns) - 1\n",
        "input = layers.Input(shape=(features,), name='input')\n",
        "reshape = layers.Lambda(lambda x: tf.expand_dims(x, axis=1))(input)\n",
        "cnn = layers.Conv1D(filters=128, kernel_size=32, padding='same', activation=\"relu\")(reshape)\n",
        "# pool = layers.MaxPool1D(3)(cnn)\n",
        "dense = layers.Dense(32, activation='relu')(cnn)\n",
        "output = layers.Dense(3, activation='softmax')(dense)\n",
        "\n",
        "\n",
        "model2 = tf.keras.Model(inputs=input,\n",
        "                         outputs=output,\n",
        "                         name=model_name)\n",
        "model2.compile(loss=\"sparse_categorical_crossentropy\",\n",
        "                optimizer=tf.keras.optimizers.Adam(),\n",
        "                metrics=[\"accuracy\"])\n",
        "# visualize\n",
        "plot_model(model2, show_shapes=True)"
      ],
      "metadata": {
        "id": "p7LDa4wMHLXW",
        "colab": {
          "base_uri": "https://localhost:8080/",
          "height": 533
        },
        "outputId": "970f7994-31d2-4267-94c4-a25f4df8c242"
      },
      "execution_count": null,
      "outputs": [
        {
          "output_type": "execute_result",
          "data": {
            "image/png": "[encoded data removed]",
            "text/plain": [
              "<IPython.core.display.Image object>"
            ]
          },
          "metadata": {},
          "execution_count": 16
        }
      ]
    },
    {
      "cell_type": "code",
      "source": [
        "history2, filepath, X_test, y_test = train_model(model2, data, model_name, epochs=200)\n",
        "model_evaluation(model2, model_name, filepath, X_test, y_test)"
      ],
      "metadata": {
        "id": "S_zZMcdiJ7uB",
        "colab": {
          "base_uri": "https://localhost:8080/",
          "height": 1000
        },
        "outputId": "162aa4f6-3a36-405b-d21c-4200d4841dce"
      },
      "execution_count": null,
      "outputs": [
        {
          "output_type": "display_data",
          "data": {
            "text/plain": [
              "(1699, 8)"
            ]
          },
          "metadata": {}
        },
        {
          "output_type": "display_data",
          "data": {
            "text/plain": [
              "(425, 8)"
            ]
          },
          "metadata": {}
        },
        {
          "output_type": "display_data",
          "data": {
            "text/plain": [
              "(1699,)"
            ]
          },
          "metadata": {}
        },
        {
          "output_type": "display_data",
          "data": {
            "text/plain": [
              "(425,)"
            ]
          },
          "metadata": {}
        },
        {
          "output_type": "stream",
          "name": "stdout",
          "text": [
            "Epoch 1/200\n",
            "14/14 [==============================] - 1s 27ms/step - loss: 1.0725 - accuracy: 0.5666 - val_loss: 1.0291 - val_accuracy: 0.6619\n",
            "Epoch 2/200\n",
            "14/14 [==============================] - 0s 6ms/step - loss: 0.9544 - accuracy: 0.7931 - val_loss: 0.9648 - val_accuracy: 0.6619\n",
            "Epoch 3/200\n",
            "14/14 [==============================] - 0s 5ms/step - loss: 0.8393 - accuracy: 0.7923 - val_loss: 0.9438 - val_accuracy: 0.6619\n",
            "Epoch 4/200\n",
            "14/14 [==============================] - 0s 6ms/step - loss: 0.7471 - accuracy: 0.7927 - val_loss: 0.9621 - val_accuracy: 0.6619\n",
            "Epoch 5/200\n",
            "14/14 [==============================] - 0s 7ms/step - loss: 0.6892 - accuracy: 0.7918 - val_loss: 0.9525 - val_accuracy: 0.6619\n",
            "Epoch 6/200\n",
            "14/14 [==============================] - 0s 6ms/step - loss: 0.6588 - accuracy: 0.7936 - val_loss: 0.9325 - val_accuracy: 0.6619\n",
            "Epoch 7/200\n",
            "14/14 [==============================] - 0s 6ms/step - loss: 0.6375 - accuracy: 0.7899 - val_loss: 0.9122 - val_accuracy: 0.6619\n",
            "Epoch 8/200\n",
            "14/14 [==============================] - 0s 5ms/step - loss: 0.6279 - accuracy: 0.7894 - val_loss: 0.9185 - val_accuracy: 0.6619\n",
            "Epoch 9/200\n",
            "14/14 [==============================] - 0s 6ms/step - loss: 0.6215 - accuracy: 0.7846 - val_loss: 0.9031 - val_accuracy: 0.6619\n",
            "Epoch 10/200\n",
            "14/14 [==============================] - 0s 5ms/step - loss: 0.6174 - accuracy: 0.7873 - val_loss: 0.9108 - val_accuracy: 0.6619\n",
            "Epoch 11/200\n",
            "14/14 [==============================] - 0s 6ms/step - loss: 0.6150 - accuracy: 0.7849 - val_loss: 0.8948 - val_accuracy: 0.6605\n",
            "Epoch 12/200\n",
            "14/14 [==============================] - 0s 6ms/step - loss: 0.6104 - accuracy: 0.7870 - val_loss: 0.9024 - val_accuracy: 0.6605\n",
            "Epoch 13/200\n",
            "14/14 [==============================] - 0s 6ms/step - loss: 0.6088 - accuracy: 0.7871 - val_loss: 0.8998 - val_accuracy: 0.6605\n",
            "Epoch 14/200\n",
            "14/14 [==============================] - 0s 6ms/step - loss: 0.6064 - accuracy: 0.7858 - val_loss: 0.9076 - val_accuracy: 0.6563\n",
            "Epoch 15/200\n",
            "14/14 [==============================] - 0s 5ms/step - loss: 0.6058 - accuracy: 0.7862 - val_loss: 0.8928 - val_accuracy: 0.6592\n",
            "Epoch 16/200\n",
            "14/14 [==============================] - 0s 6ms/step - loss: 0.6040 - accuracy: 0.7848 - val_loss: 0.8940 - val_accuracy: 0.6605\n",
            "Epoch 17/200\n",
            "14/14 [==============================] - 0s 5ms/step - loss: 0.6040 - accuracy: 0.7862 - val_loss: 0.9087 - val_accuracy: 0.6582\n",
            "Epoch 18/200\n",
            "14/14 [==============================] - 0s 5ms/step - loss: 0.6008 - accuracy: 0.7863 - val_loss: 0.8996 - val_accuracy: 0.6544\n",
            "Epoch 19/200\n",
            "14/14 [==============================] - 0s 6ms/step - loss: 0.5996 - accuracy: 0.7854 - val_loss: 0.9044 - val_accuracy: 0.6592\n",
            "Epoch 20/200\n",
            "14/14 [==============================] - 0s 5ms/step - loss: 0.5985 - accuracy: 0.7826 - val_loss: 0.9115 - val_accuracy: 0.6563\n",
            "Epoch 21/200\n",
            "14/14 [==============================] - 0s 7ms/step - loss: 0.5981 - accuracy: 0.7876 - val_loss: 0.9114 - val_accuracy: 0.6619\n",
            "Epoch 22/200\n",
            "14/14 [==============================] - 0s 5ms/step - loss: 0.6002 - accuracy: 0.7825 - val_loss: 0.9102 - val_accuracy: 0.6579\n",
            "Epoch 23/200\n",
            "14/14 [==============================] - 0s 6ms/step - loss: 0.5961 - accuracy: 0.7854 - val_loss: 0.9102 - val_accuracy: 0.6582\n",
            "Epoch 24/200\n",
            "14/14 [==============================] - 0s 7ms/step - loss: 0.5935 - accuracy: 0.7825 - val_loss: 0.9096 - val_accuracy: 0.6563\n",
            "Epoch 25/200\n",
            "14/14 [==============================] - 0s 12ms/step - loss: 0.5912 - accuracy: 0.7828 - val_loss: 0.9083 - val_accuracy: 0.6536\n",
            "Epoch 26/200\n",
            "14/14 [==============================] - 0s 9ms/step - loss: 0.5923 - accuracy: 0.7861 - val_loss: 0.9148 - val_accuracy: 0.6550\n",
            "Epoch 27/200\n",
            "14/14 [==============================] - 0s 9ms/step - loss: 0.5904 - accuracy: 0.7841 - val_loss: 0.9021 - val_accuracy: 0.6569\n",
            "Epoch 28/200\n",
            "14/14 [==============================] - 0s 9ms/step - loss: 0.5903 - accuracy: 0.7832 - val_loss: 0.9194 - val_accuracy: 0.6583\n",
            "Epoch 29/200\n",
            "14/14 [==============================] - 0s 9ms/step - loss: 0.5888 - accuracy: 0.7826 - val_loss: 0.9101 - val_accuracy: 0.6531\n",
            "Epoch 30/200\n",
            "14/14 [==============================] - 0s 8ms/step - loss: 0.5862 - accuracy: 0.7855 - val_loss: 0.9210 - val_accuracy: 0.6569\n",
            "Epoch 31/200\n",
            "14/14 [==============================] - 0s 9ms/step - loss: 0.5869 - accuracy: 0.7808 - val_loss: 0.9162 - val_accuracy: 0.6514\n",
            "Epoch 32/200\n",
            "14/14 [==============================] - 0s 7ms/step - loss: 0.5852 - accuracy: 0.7827 - val_loss: 0.9260 - val_accuracy: 0.6550\n",
            "Epoch 33/200\n",
            "14/14 [==============================] - 0s 9ms/step - loss: 0.5838 - accuracy: 0.7848 - val_loss: 0.9095 - val_accuracy: 0.6556\n",
            "Epoch 34/200\n",
            "14/14 [==============================] - 0s 8ms/step - loss: 0.5820 - accuracy: 0.7824 - val_loss: 0.9169 - val_accuracy: 0.6508\n",
            "Epoch 35/200\n",
            "14/14 [==============================] - 0s 8ms/step - loss: 0.5812 - accuracy: 0.7799 - val_loss: 0.9297 - val_accuracy: 0.6533\n",
            "Epoch 36/200\n",
            "14/14 [==============================] - 0s 9ms/step - loss: 0.5793 - accuracy: 0.7815 - val_loss: 0.9188 - val_accuracy: 0.6519\n",
            "Epoch 37/200\n",
            "14/14 [==============================] - 0s 9ms/step - loss: 0.5790 - accuracy: 0.7812 - val_loss: 0.9297 - val_accuracy: 0.6495\n",
            "Epoch 38/200\n",
            "14/14 [==============================] - 0s 8ms/step - loss: 0.5780 - accuracy: 0.7811 - val_loss: 0.9148 - val_accuracy: 0.6454\n",
            "Epoch 39/200\n",
            "14/14 [==============================] - 0s 8ms/step - loss: 0.5762 - accuracy: 0.7791 - val_loss: 0.9362 - val_accuracy: 0.6556\n",
            "Epoch 40/200\n",
            "14/14 [==============================] - 0s 8ms/step - loss: 0.5746 - accuracy: 0.7818 - val_loss: 0.9347 - val_accuracy: 0.6529\n",
            "Epoch 41/200\n",
            "14/14 [==============================] - 0s 9ms/step - loss: 0.5725 - accuracy: 0.7817 - val_loss: 0.9294 - val_accuracy: 0.6486\n",
            "Epoch 42/200\n",
            "14/14 [==============================] - 0s 9ms/step - loss: 0.5709 - accuracy: 0.7789 - val_loss: 0.9276 - val_accuracy: 0.6454\n",
            "Epoch 43/200\n",
            "14/14 [==============================] - 0s 8ms/step - loss: 0.5702 - accuracy: 0.7815 - val_loss: 0.9306 - val_accuracy: 0.6473\n",
            "Epoch 44/200\n",
            "14/14 [==============================] - 0s 8ms/step - loss: 0.5698 - accuracy: 0.7790 - val_loss: 0.9420 - val_accuracy: 0.6473\n",
            "Epoch 45/200\n",
            "14/14 [==============================] - 0s 8ms/step - loss: 0.5670 - accuracy: 0.7811 - val_loss: 0.9249 - val_accuracy: 0.6435\n",
            "Epoch 46/200\n",
            "14/14 [==============================] - 0s 8ms/step - loss: 0.5691 - accuracy: 0.7756 - val_loss: 0.9563 - val_accuracy: 0.6509\n",
            "Epoch 47/200\n",
            "14/14 [==============================] - 0s 10ms/step - loss: 0.5644 - accuracy: 0.7806 - val_loss: 0.9239 - val_accuracy: 0.6487\n",
            "Epoch 48/200\n",
            "14/14 [==============================] - 0s 9ms/step - loss: 0.5630 - accuracy: 0.7769 - val_loss: 0.9537 - val_accuracy: 0.6454\n",
            "Epoch 49/200\n",
            "14/14 [==============================] - 0s 9ms/step - loss: 0.5638 - accuracy: 0.7820 - val_loss: 0.9400 - val_accuracy: 0.6445\n",
            "Epoch 50/200\n",
            "14/14 [==============================] - 0s 10ms/step - loss: 0.5618 - accuracy: 0.7762 - val_loss: 0.9536 - val_accuracy: 0.6477\n",
            "Epoch 51/200\n",
            "14/14 [==============================] - 0s 8ms/step - loss: 0.5614 - accuracy: 0.7777 - val_loss: 0.9420 - val_accuracy: 0.6478\n",
            "Epoch 52/200\n",
            "14/14 [==============================] - 0s 9ms/step - loss: 0.5575 - accuracy: 0.7763 - val_loss: 0.9662 - val_accuracy: 0.6443\n",
            "Epoch 53/200\n",
            "14/14 [==============================] - 0s 10ms/step - loss: 0.5562 - accuracy: 0.7740 - val_loss: 0.9424 - val_accuracy: 0.6413\n",
            "Epoch 54/200\n",
            "14/14 [==============================] - 0s 9ms/step - loss: 0.5559 - accuracy: 0.7748 - val_loss: 0.9721 - val_accuracy: 0.6509\n",
            "Epoch 55/200\n",
            "14/14 [==============================] - 0s 9ms/step - loss: 0.5552 - accuracy: 0.7767 - val_loss: 0.9658 - val_accuracy: 0.6421\n",
            "Epoch 56/200\n",
            "14/14 [==============================] - 0s 10ms/step - loss: 0.5517 - accuracy: 0.7748 - val_loss: 0.9560 - val_accuracy: 0.6455\n",
            "Epoch 57/200\n",
            "14/14 [==============================] - 0s 7ms/step - loss: 0.5522 - accuracy: 0.7770 - val_loss: 0.9732 - val_accuracy: 0.6519\n",
            "Epoch 58/200\n",
            "14/14 [==============================] - 0s 9ms/step - loss: 0.5507 - accuracy: 0.7751 - val_loss: 0.9584 - val_accuracy: 0.6409\n",
            "Epoch 59/200\n",
            "14/14 [==============================] - 0s 8ms/step - loss: 0.5475 - accuracy: 0.7744 - val_loss: 0.9705 - val_accuracy: 0.6451\n",
            "Epoch 60/200\n",
            "14/14 [==============================] - 0s 9ms/step - loss: 0.5468 - accuracy: 0.7774 - val_loss: 0.9561 - val_accuracy: 0.6353\n",
            "Epoch 61/200\n",
            "14/14 [==============================] - 0s 5ms/step - loss: 0.5467 - accuracy: 0.7700 - val_loss: 0.9836 - val_accuracy: 0.6474\n",
            "Epoch 62/200\n",
            "14/14 [==============================] - 0s 5ms/step - loss: 0.5442 - accuracy: 0.7724 - val_loss: 0.9764 - val_accuracy: 0.6361\n",
            "Epoch 63/200\n",
            "14/14 [==============================] - 0s 6ms/step - loss: 0.5418 - accuracy: 0.7692 - val_loss: 0.9988 - val_accuracy: 0.6493\n",
            "Epoch 64/200\n",
            "14/14 [==============================] - 0s 6ms/step - loss: 0.5416 - accuracy: 0.7742 - val_loss: 0.9816 - val_accuracy: 0.6380\n",
            "Epoch 65/200\n",
            "14/14 [==============================] - 0s 6ms/step - loss: 0.5382 - accuracy: 0.7729 - val_loss: 0.9869 - val_accuracy: 0.6368\n",
            "Epoch 66/200\n",
            "14/14 [==============================] - 0s 7ms/step - loss: 0.5357 - accuracy: 0.7715 - val_loss: 0.9928 - val_accuracy: 0.6360\n",
            "Epoch 67/200\n",
            "14/14 [==============================] - 0s 5ms/step - loss: 0.5376 - accuracy: 0.7694 - val_loss: 0.9917 - val_accuracy: 0.6333\n",
            "Epoch 68/200\n",
            "14/14 [==============================] - 0s 6ms/step - loss: 0.5354 - accuracy: 0.7685 - val_loss: 0.9931 - val_accuracy: 0.6373\n",
            "Epoch 69/200\n",
            "14/14 [==============================] - 0s 6ms/step - loss: 0.5329 - accuracy: 0.7716 - val_loss: 1.0028 - val_accuracy: 0.6403\n",
            "Epoch 70/200\n",
            "14/14 [==============================] - 0s 7ms/step - loss: 0.5331 - accuracy: 0.7634 - val_loss: 0.9985 - val_accuracy: 0.6372\n",
            "Epoch 71/200\n",
            "14/14 [==============================] - 0s 5ms/step - loss: 0.5311 - accuracy: 0.7700 - val_loss: 1.0022 - val_accuracy: 0.6292\n",
            "Epoch 72/200\n",
            "14/14 [==============================] - 0s 6ms/step - loss: 0.5281 - accuracy: 0.7662 - val_loss: 1.0175 - val_accuracy: 0.6419\n",
            "Epoch 73/200\n",
            "14/14 [==============================] - 0s 6ms/step - loss: 0.5273 - accuracy: 0.7698 - val_loss: 1.0052 - val_accuracy: 0.6218\n",
            "Epoch 74/200\n",
            "14/14 [==============================] - 0s 5ms/step - loss: 0.5258 - accuracy: 0.7659 - val_loss: 1.0268 - val_accuracy: 0.6386\n",
            "Epoch 75/200\n",
            "14/14 [==============================] - 0s 6ms/step - loss: 0.5242 - accuracy: 0.7659 - val_loss: 1.0169 - val_accuracy: 0.6370\n",
            "Epoch 76/200\n",
            "14/14 [==============================] - 0s 5ms/step - loss: 0.5232 - accuracy: 0.7723 - val_loss: 1.0222 - val_accuracy: 0.6287\n",
            "Epoch 77/200\n",
            "14/14 [==============================] - 0s 7ms/step - loss: 0.5251 - accuracy: 0.7622 - val_loss: 1.0391 - val_accuracy: 0.6443\n",
            "Epoch 78/200\n",
            "14/14 [==============================] - 0s 6ms/step - loss: 0.5210 - accuracy: 0.7652 - val_loss: 1.0165 - val_accuracy: 0.6234\n",
            "Epoch 79/200\n",
            "14/14 [==============================] - 0s 6ms/step - loss: 0.5194 - accuracy: 0.7695 - val_loss: 1.0211 - val_accuracy: 0.6197\n",
            "Epoch 80/200\n",
            "14/14 [==============================] - 0s 5ms/step - loss: 0.5218 - accuracy: 0.7586 - val_loss: 1.0322 - val_accuracy: 0.6285\n",
            "Epoch 81/200\n",
            "14/14 [==============================] - 0s 6ms/step - loss: 0.5185 - accuracy: 0.7626 - val_loss: 1.0317 - val_accuracy: 0.6282\n",
            "Epoch 82/200\n",
            "14/14 [==============================] - 0s 5ms/step - loss: 0.5172 - accuracy: 0.7623 - val_loss: 1.0390 - val_accuracy: 0.6157\n",
            "Epoch 83/200\n",
            "14/14 [==============================] - 0s 7ms/step - loss: 0.5120 - accuracy: 0.7641 - val_loss: 1.0413 - val_accuracy: 0.6235\n",
            "Epoch 84/200\n",
            "14/14 [==============================] - 0s 5ms/step - loss: 0.5109 - accuracy: 0.7619 - val_loss: 1.0463 - val_accuracy: 0.6253\n",
            "Epoch 85/200\n",
            "14/14 [==============================] - 0s 6ms/step - loss: 0.5113 - accuracy: 0.7573 - val_loss: 1.0524 - val_accuracy: 0.6265\n",
            "Epoch 86/200\n",
            "14/14 [==============================] - 0s 6ms/step - loss: 0.5082 - accuracy: 0.7627 - val_loss: 1.0381 - val_accuracy: 0.6231\n",
            "Epoch 87/200\n",
            "14/14 [==============================] - 0s 6ms/step - loss: 0.5070 - accuracy: 0.7651 - val_loss: 1.0531 - val_accuracy: 0.6181\n",
            "Epoch 88/200\n",
            "14/14 [==============================] - 0s 5ms/step - loss: 0.5081 - accuracy: 0.7570 - val_loss: 1.1004 - val_accuracy: 0.6415\n",
            "Epoch 89/200\n",
            "14/14 [==============================] - 0s 6ms/step - loss: 0.5090 - accuracy: 0.7621 - val_loss: 1.0491 - val_accuracy: 0.6105\n",
            "Epoch 90/200\n",
            "14/14 [==============================] - 0s 6ms/step - loss: 0.5044 - accuracy: 0.7577 - val_loss: 1.0728 - val_accuracy: 0.6184\n",
            "Epoch 91/200\n",
            "14/14 [==============================] - 0s 5ms/step - loss: 0.5014 - accuracy: 0.7598 - val_loss: 1.0563 - val_accuracy: 0.6232\n",
            "Epoch 92/200\n",
            "14/14 [==============================] - 0s 7ms/step - loss: 0.5007 - accuracy: 0.7591 - val_loss: 1.0720 - val_accuracy: 0.6214\n",
            "Epoch 93/200\n",
            "14/14 [==============================] - 0s 6ms/step - loss: 0.4997 - accuracy: 0.7600 - val_loss: 1.0781 - val_accuracy: 0.6172\n",
            "Epoch 94/200\n",
            "14/14 [==============================] - 0s 6ms/step - loss: 0.4964 - accuracy: 0.7553 - val_loss: 1.0797 - val_accuracy: 0.6223\n",
            "Epoch 95/200\n",
            "14/14 [==============================] - 0s 5ms/step - loss: 0.4973 - accuracy: 0.7551 - val_loss: 1.0804 - val_accuracy: 0.6147\n",
            "Epoch 96/200\n",
            "14/14 [==============================] - 0s 6ms/step - loss: 0.5021 - accuracy: 0.7618 - val_loss: 1.0636 - val_accuracy: 0.6097\n",
            "Epoch 97/200\n",
            "14/14 [==============================] - 0s 8ms/step - loss: 0.4948 - accuracy: 0.7591 - val_loss: 1.0946 - val_accuracy: 0.6199\n",
            "Epoch 98/200\n",
            "14/14 [==============================] - 0s 5ms/step - loss: 0.4923 - accuracy: 0.7599 - val_loss: 1.0688 - val_accuracy: 0.6073\n",
            "Epoch 99/200\n",
            "14/14 [==============================] - 0s 6ms/step - loss: 0.4940 - accuracy: 0.7552 - val_loss: 1.1214 - val_accuracy: 0.6264\n",
            "Epoch 100/200\n",
            "14/14 [==============================] - 0s 5ms/step - loss: 0.4906 - accuracy: 0.7538 - val_loss: 1.0854 - val_accuracy: 0.6162\n",
            "Epoch 101/200\n",
            "14/14 [==============================] - 0s 5ms/step - loss: 0.4883 - accuracy: 0.7589 - val_loss: 1.1036 - val_accuracy: 0.6193\n",
            "Epoch 102/200\n",
            "14/14 [==============================] - 0s 6ms/step - loss: 0.4908 - accuracy: 0.7548 - val_loss: 1.1000 - val_accuracy: 0.6114\n",
            "Epoch 103/200\n",
            "14/14 [==============================] - 0s 7ms/step - loss: 0.4880 - accuracy: 0.7529 - val_loss: 1.1164 - val_accuracy: 0.6204\n",
            "Epoch 104/200\n",
            "14/14 [==============================] - 0s 7ms/step - loss: 0.4862 - accuracy: 0.7550 - val_loss: 1.1090 - val_accuracy: 0.6148\n",
            "Epoch 105/200\n",
            "14/14 [==============================] - 0s 6ms/step - loss: 0.4853 - accuracy: 0.7511 - val_loss: 1.1337 - val_accuracy: 0.6273\n",
            "Epoch 106/200\n",
            "14/14 [==============================] - 0s 5ms/step - loss: 0.4848 - accuracy: 0.7540 - val_loss: 1.1076 - val_accuracy: 0.6138\n",
            "Epoch 107/200\n",
            "14/14 [==============================] - 0s 6ms/step - loss: 0.4844 - accuracy: 0.7623 - val_loss: 1.0993 - val_accuracy: 0.6083\n",
            "Epoch 108/200\n",
            "14/14 [==============================] - 0s 6ms/step - loss: 0.4833 - accuracy: 0.7496 - val_loss: 1.1389 - val_accuracy: 0.6225\n",
            "Epoch 109/200\n",
            "14/14 [==============================] - 0s 7ms/step - loss: 0.4817 - accuracy: 0.7526 - val_loss: 1.1203 - val_accuracy: 0.6044\n",
            "Epoch 110/200\n",
            "14/14 [==============================] - 0s 8ms/step - loss: 0.4809 - accuracy: 0.7479 - val_loss: 1.1767 - val_accuracy: 0.6341\n",
            "Epoch 111/200\n",
            "14/14 [==============================] - 0s 7ms/step - loss: 0.4846 - accuracy: 0.7520 - val_loss: 1.1216 - val_accuracy: 0.6094\n",
            "Epoch 112/200\n",
            "14/14 [==============================] - 0s 6ms/step - loss: 0.4767 - accuracy: 0.7508 - val_loss: 1.1351 - val_accuracy: 0.6221\n",
            "Epoch 113/200\n",
            "14/14 [==============================] - 0s 7ms/step - loss: 0.4750 - accuracy: 0.7541 - val_loss: 1.1452 - val_accuracy: 0.6138\n",
            "Epoch 114/200\n",
            "14/14 [==============================] - 0s 8ms/step - loss: 0.4818 - accuracy: 0.7524 - val_loss: 1.1566 - val_accuracy: 0.6218\n",
            "Epoch 115/200\n",
            "14/14 [==============================] - 0s 7ms/step - loss: 0.4772 - accuracy: 0.7473 - val_loss: 1.1350 - val_accuracy: 0.6133\n",
            "Epoch 116/200\n",
            "14/14 [==============================] - 0s 6ms/step - loss: 0.4736 - accuracy: 0.7526 - val_loss: 1.1356 - val_accuracy: 0.6143\n",
            "Epoch 117/200\n",
            "14/14 [==============================] - 0s 7ms/step - loss: 0.4731 - accuracy: 0.7404 - val_loss: 1.1879 - val_accuracy: 0.6317\n",
            "Epoch 118/200\n",
            "14/14 [==============================] - 0s 6ms/step - loss: 0.4737 - accuracy: 0.7554 - val_loss: 1.1169 - val_accuracy: 0.6041\n",
            "Epoch 119/200\n",
            "14/14 [==============================] - 0s 5ms/step - loss: 0.4697 - accuracy: 0.7481 - val_loss: 1.1869 - val_accuracy: 0.6225\n",
            "Epoch 120/200\n",
            "14/14 [==============================] - 0s 6ms/step - loss: 0.4751 - accuracy: 0.7542 - val_loss: 1.1467 - val_accuracy: 0.5964\n",
            "Epoch 121/200\n",
            "14/14 [==============================] - 0s 5ms/step - loss: 0.4719 - accuracy: 0.7488 - val_loss: 1.1724 - val_accuracy: 0.6215\n",
            "Epoch 122/200\n",
            "14/14 [==============================] - 0s 7ms/step - loss: 0.4696 - accuracy: 0.7421 - val_loss: 1.1802 - val_accuracy: 0.6192\n",
            "Epoch 123/200\n",
            "14/14 [==============================] - 0s 5ms/step - loss: 0.4689 - accuracy: 0.7590 - val_loss: 1.1328 - val_accuracy: 0.6035\n",
            "Epoch 124/200\n",
            "14/14 [==============================] - 0s 5ms/step - loss: 0.4695 - accuracy: 0.7348 - val_loss: 1.2023 - val_accuracy: 0.6205\n",
            "Epoch 125/200\n",
            "14/14 [==============================] - 0s 6ms/step - loss: 0.4689 - accuracy: 0.7447 - val_loss: 1.1540 - val_accuracy: 0.6052\n",
            "Epoch 126/200\n",
            "14/14 [==============================] - 0s 5ms/step - loss: 0.4655 - accuracy: 0.7523 - val_loss: 1.1719 - val_accuracy: 0.6119\n",
            "Epoch 127/200\n",
            "14/14 [==============================] - 0s 6ms/step - loss: 0.4619 - accuracy: 0.7433 - val_loss: 1.1776 - val_accuracy: 0.6081\n",
            "Epoch 128/200\n",
            "14/14 [==============================] - 0s 5ms/step - loss: 0.4623 - accuracy: 0.7410 - val_loss: 1.1945 - val_accuracy: 0.6160\n",
            "Epoch 129/200\n",
            "14/14 [==============================] - 0s 7ms/step - loss: 0.4609 - accuracy: 0.7370 - val_loss: 1.2126 - val_accuracy: 0.6201\n",
            "Epoch 130/200\n",
            "14/14 [==============================] - 0s 6ms/step - loss: 0.4625 - accuracy: 0.7480 - val_loss: 1.1922 - val_accuracy: 0.6118\n",
            "Epoch 131/200\n",
            "14/14 [==============================] - 0s 5ms/step - loss: 0.4571 - accuracy: 0.7495 - val_loss: 1.1726 - val_accuracy: 0.6027\n",
            "Epoch 132/200\n",
            "14/14 [==============================] - 0s 5ms/step - loss: 0.4544 - accuracy: 0.7381 - val_loss: 1.2102 - val_accuracy: 0.6192\n",
            "Epoch 133/200\n",
            "14/14 [==============================] - 0s 6ms/step - loss: 0.4583 - accuracy: 0.7492 - val_loss: 1.1934 - val_accuracy: 0.6141\n",
            "Epoch 134/200\n",
            "14/14 [==============================] - 0s 5ms/step - loss: 0.4551 - accuracy: 0.7453 - val_loss: 1.1874 - val_accuracy: 0.6090\n",
            "Epoch 135/200\n",
            "14/14 [==============================] - 0s 7ms/step - loss: 0.4551 - accuracy: 0.7389 - val_loss: 1.2287 - val_accuracy: 0.6224\n",
            "Epoch 136/200\n",
            "14/14 [==============================] - 0s 5ms/step - loss: 0.4542 - accuracy: 0.7451 - val_loss: 1.2034 - val_accuracy: 0.6039\n",
            "Epoch 137/200\n",
            "14/14 [==============================] - 0s 7ms/step - loss: 0.4531 - accuracy: 0.7420 - val_loss: 1.2082 - val_accuracy: 0.6071\n",
            "Epoch 138/200\n",
            "14/14 [==============================] - 0s 7ms/step - loss: 0.4525 - accuracy: 0.7457 - val_loss: 1.2154 - val_accuracy: 0.6083\n",
            "Epoch 139/200\n",
            "14/14 [==============================] - 0s 5ms/step - loss: 0.4571 - accuracy: 0.7363 - val_loss: 1.2182 - val_accuracy: 0.6169\n",
            "Epoch 140/200\n",
            "14/14 [==============================] - 0s 7ms/step - loss: 0.4533 - accuracy: 0.7496 - val_loss: 1.1972 - val_accuracy: 0.6005\n",
            "Epoch 141/200\n",
            "14/14 [==============================] - 0s 6ms/step - loss: 0.4476 - accuracy: 0.7383 - val_loss: 1.2376 - val_accuracy: 0.6077\n",
            "Epoch 142/200\n",
            "14/14 [==============================] - 0s 6ms/step - loss: 0.4484 - accuracy: 0.7440 - val_loss: 1.2306 - val_accuracy: 0.6165\n",
            "Epoch 143/200\n",
            "14/14 [==============================] - 0s 5ms/step - loss: 0.4508 - accuracy: 0.7392 - val_loss: 1.2485 - val_accuracy: 0.6164\n",
            "Epoch 144/200\n",
            "14/14 [==============================] - 0s 6ms/step - loss: 0.4493 - accuracy: 0.7431 - val_loss: 1.2151 - val_accuracy: 0.6012\n",
            "Epoch 145/200\n",
            "14/14 [==============================] - 0s 5ms/step - loss: 0.4466 - accuracy: 0.7327 - val_loss: 1.2976 - val_accuracy: 0.6232\n",
            "Epoch 146/200\n",
            "14/14 [==============================] - 0s 5ms/step - loss: 0.4459 - accuracy: 0.7387 - val_loss: 1.2230 - val_accuracy: 0.6007\n",
            "Epoch 147/200\n",
            "14/14 [==============================] - 0s 6ms/step - loss: 0.4401 - accuracy: 0.7397 - val_loss: 1.2471 - val_accuracy: 0.6123\n",
            "Epoch 148/200\n",
            "14/14 [==============================] - 0s 6ms/step - loss: 0.4402 - accuracy: 0.7461 - val_loss: 1.2165 - val_accuracy: 0.5947\n",
            "Epoch 149/200\n",
            "14/14 [==============================] - 0s 7ms/step - loss: 0.4417 - accuracy: 0.7395 - val_loss: 1.2589 - val_accuracy: 0.6161\n",
            "Epoch 150/200\n",
            "14/14 [==============================] - 0s 6ms/step - loss: 0.4416 - accuracy: 0.7351 - val_loss: 1.2642 - val_accuracy: 0.6150\n",
            "Epoch 151/200\n",
            "14/14 [==============================] - 0s 7ms/step - loss: 0.4380 - accuracy: 0.7398 - val_loss: 1.2435 - val_accuracy: 0.6073\n",
            "Epoch 152/200\n",
            "14/14 [==============================] - 0s 10ms/step - loss: 0.4399 - accuracy: 0.7421 - val_loss: 1.2442 - val_accuracy: 0.6067\n",
            "Epoch 153/200\n",
            "14/14 [==============================] - 0s 11ms/step - loss: 0.4391 - accuracy: 0.7318 - val_loss: 1.2951 - val_accuracy: 0.6257\n",
            "Epoch 154/200\n",
            "14/14 [==============================] - 0s 7ms/step - loss: 0.4406 - accuracy: 0.7373 - val_loss: 1.2838 - val_accuracy: 0.6208\n",
            "Epoch 155/200\n",
            "14/14 [==============================] - 0s 6ms/step - loss: 0.4389 - accuracy: 0.7456 - val_loss: 1.2364 - val_accuracy: 0.5896\n",
            "Epoch 156/200\n",
            "14/14 [==============================] - 0s 6ms/step - loss: 0.4389 - accuracy: 0.7437 - val_loss: 1.2512 - val_accuracy: 0.6127\n",
            "Epoch 157/200\n",
            "14/14 [==============================] - 0s 7ms/step - loss: 0.4310 - accuracy: 0.7331 - val_loss: 1.2596 - val_accuracy: 0.6005\n",
            "Epoch 158/200\n",
            "14/14 [==============================] - 0s 7ms/step - loss: 0.4306 - accuracy: 0.7400 - val_loss: 1.2633 - val_accuracy: 0.5996\n",
            "Epoch 159/200\n",
            "14/14 [==============================] - 0s 6ms/step - loss: 0.4295 - accuracy: 0.7397 - val_loss: 1.2543 - val_accuracy: 0.5979\n",
            "Epoch 160/200\n",
            "14/14 [==============================] - 0s 7ms/step - loss: 0.4286 - accuracy: 0.7328 - val_loss: 1.3040 - val_accuracy: 0.6189\n",
            "Epoch 161/200\n",
            "14/14 [==============================] - 0s 6ms/step - loss: 0.4346 - accuracy: 0.7385 - val_loss: 1.2683 - val_accuracy: 0.6039\n",
            "Epoch 162/200\n",
            "14/14 [==============================] - 0s 7ms/step - loss: 0.4343 - accuracy: 0.7320 - val_loss: 1.3157 - val_accuracy: 0.6218\n",
            "Epoch 163/200\n",
            "14/14 [==============================] - 0s 6ms/step - loss: 0.4343 - accuracy: 0.7409 - val_loss: 1.2661 - val_accuracy: 0.5993\n",
            "Epoch 164/200\n",
            "14/14 [==============================] - 0s 8ms/step - loss: 0.4386 - accuracy: 0.7416 - val_loss: 1.2939 - val_accuracy: 0.6146\n",
            "Epoch 165/200\n",
            "14/14 [==============================] - 0s 7ms/step - loss: 0.4254 - accuracy: 0.7287 - val_loss: 1.2971 - val_accuracy: 0.6117\n",
            "Epoch 166/200\n",
            "14/14 [==============================] - 0s 6ms/step - loss: 0.4276 - accuracy: 0.7455 - val_loss: 1.2707 - val_accuracy: 0.5906\n",
            "Epoch 167/200\n",
            "14/14 [==============================] - 0s 7ms/step - loss: 0.4251 - accuracy: 0.7305 - val_loss: 1.3006 - val_accuracy: 0.6061\n",
            "Epoch 168/200\n",
            "14/14 [==============================] - 0s 9ms/step - loss: 0.4230 - accuracy: 0.7315 - val_loss: 1.3319 - val_accuracy: 0.6171\n",
            "Epoch 169/200\n",
            "14/14 [==============================] - 0s 10ms/step - loss: 0.4212 - accuracy: 0.7378 - val_loss: 1.2780 - val_accuracy: 0.5989\n",
            "Epoch 170/200\n",
            "14/14 [==============================] - 0s 8ms/step - loss: 0.4186 - accuracy: 0.7328 - val_loss: 1.3378 - val_accuracy: 0.6145\n",
            "Epoch 171/200\n",
            "14/14 [==============================] - 0s 8ms/step - loss: 0.4197 - accuracy: 0.7310 - val_loss: 1.3163 - val_accuracy: 0.6095\n",
            "Epoch 172/200\n",
            "14/14 [==============================] - 0s 8ms/step - loss: 0.4191 - accuracy: 0.7352 - val_loss: 1.3105 - val_accuracy: 0.6048\n",
            "Epoch 173/200\n",
            "14/14 [==============================] - 0s 7ms/step - loss: 0.4164 - accuracy: 0.7341 - val_loss: 1.3010 - val_accuracy: 0.6036\n",
            "Epoch 174/200\n",
            "14/14 [==============================] - 0s 8ms/step - loss: 0.4167 - accuracy: 0.7331 - val_loss: 1.3187 - val_accuracy: 0.5996\n",
            "Epoch 175/200\n",
            "14/14 [==============================] - 0s 7ms/step - loss: 0.4152 - accuracy: 0.7255 - val_loss: 1.3645 - val_accuracy: 0.6169\n",
            "Epoch 176/200\n",
            "14/14 [==============================] - 0s 9ms/step - loss: 0.4230 - accuracy: 0.7389 - val_loss: 1.3080 - val_accuracy: 0.5962\n",
            "Epoch 177/200\n",
            "14/14 [==============================] - 0s 9ms/step - loss: 0.4160 - accuracy: 0.7336 - val_loss: 1.3185 - val_accuracy: 0.6014\n",
            "Epoch 178/200\n",
            "14/14 [==============================] - 0s 7ms/step - loss: 0.4139 - accuracy: 0.7347 - val_loss: 1.3474 - val_accuracy: 0.6052\n",
            "Epoch 179/200\n",
            "14/14 [==============================] - 0s 7ms/step - loss: 0.4147 - accuracy: 0.7260 - val_loss: 1.3196 - val_accuracy: 0.5994\n",
            "Epoch 180/200\n",
            "14/14 [==============================] - 0s 7ms/step - loss: 0.4122 - accuracy: 0.7382 - val_loss: 1.3214 - val_accuracy: 0.5933\n",
            "Epoch 181/200\n",
            "14/14 [==============================] - 0s 9ms/step - loss: 0.4137 - accuracy: 0.7352 - val_loss: 1.3270 - val_accuracy: 0.6011\n",
            "Epoch 182/200\n",
            "14/14 [==============================] - 0s 7ms/step - loss: 0.4115 - accuracy: 0.7273 - val_loss: 1.3300 - val_accuracy: 0.6047\n",
            "Epoch 183/200\n",
            "14/14 [==============================] - 0s 9ms/step - loss: 0.4142 - accuracy: 0.7378 - val_loss: 1.3382 - val_accuracy: 0.5997\n",
            "Epoch 184/200\n",
            "14/14 [==============================] - 0s 9ms/step - loss: 0.4109 - accuracy: 0.7298 - val_loss: 1.3388 - val_accuracy: 0.5989\n",
            "Epoch 185/200\n",
            "14/14 [==============================] - 0s 9ms/step - loss: 0.4101 - accuracy: 0.7259 - val_loss: 1.3544 - val_accuracy: 0.6107\n",
            "Epoch 186/200\n",
            "14/14 [==============================] - 0s 9ms/step - loss: 0.4099 - accuracy: 0.7292 - val_loss: 1.3923 - val_accuracy: 0.6126\n",
            "Epoch 187/200\n",
            "14/14 [==============================] - 0s 9ms/step - loss: 0.4134 - accuracy: 0.7278 - val_loss: 1.3577 - val_accuracy: 0.6027\n",
            "Epoch 188/200\n",
            "14/14 [==============================] - 0s 9ms/step - loss: 0.4076 - accuracy: 0.7404 - val_loss: 1.3452 - val_accuracy: 0.5978\n",
            "Epoch 189/200\n",
            "14/14 [==============================] - 0s 7ms/step - loss: 0.4077 - accuracy: 0.7259 - val_loss: 1.3919 - val_accuracy: 0.6093\n",
            "Epoch 190/200\n",
            "14/14 [==============================] - 0s 9ms/step - loss: 0.4056 - accuracy: 0.7368 - val_loss: 1.3610 - val_accuracy: 0.6010\n",
            "Epoch 191/200\n",
            "14/14 [==============================] - 0s 9ms/step - loss: 0.4058 - accuracy: 0.7304 - val_loss: 1.4041 - val_accuracy: 0.6064\n",
            "Epoch 192/200\n",
            "14/14 [==============================] - 0s 9ms/step - loss: 0.4047 - accuracy: 0.7279 - val_loss: 1.3778 - val_accuracy: 0.6042\n",
            "Epoch 193/200\n",
            "14/14 [==============================] - 0s 9ms/step - loss: 0.4026 - accuracy: 0.7346 - val_loss: 1.3672 - val_accuracy: 0.6018\n",
            "Epoch 194/200\n",
            "14/14 [==============================] - 0s 8ms/step - loss: 0.4022 - accuracy: 0.7257 - val_loss: 1.4171 - val_accuracy: 0.6093\n",
            "Epoch 195/200\n",
            "14/14 [==============================] - 0s 8ms/step - loss: 0.3973 - accuracy: 0.7277 - val_loss: 1.3825 - val_accuracy: 0.6046\n",
            "Epoch 196/200\n",
            "14/14 [==============================] - 0s 10ms/step - loss: 0.3971 - accuracy: 0.7280 - val_loss: 1.3991 - val_accuracy: 0.6024\n",
            "Epoch 197/200\n",
            "14/14 [==============================] - 0s 9ms/step - loss: 0.3945 - accuracy: 0.7279 - val_loss: 1.3662 - val_accuracy: 0.5907\n",
            "Epoch 198/200\n",
            "14/14 [==============================] - 0s 8ms/step - loss: 0.3952 - accuracy: 0.7279 - val_loss: 1.4016 - val_accuracy: 0.6030\n",
            "Epoch 199/200\n",
            "14/14 [==============================] - 0s 7ms/step - loss: 0.3976 - accuracy: 0.7302 - val_loss: 1.3858 - val_accuracy: 0.6000\n",
            "Epoch 200/200\n",
            "14/14 [==============================] - 0s 9ms/step - loss: 0.3951 - accuracy: 0.7269 - val_loss: 1.4049 - val_accuracy: 0.6003\n"
          ]
        },
        {
          "output_type": "display_data",
          "data": {
            "text/plain": [
              "'shape of x-te:'"
            ],
            "application/vnd.google.colaboratory.intrinsic+json": {
              "type": "string"
            }
          },
          "metadata": {}
        },
        {
          "output_type": "display_data",
          "data": {
            "text/plain": [
              "(425, 8)"
            ]
          },
          "metadata": {}
        },
        {
          "output_type": "stream",
          "name": "stdout",
          "text": [
            "14/14 [==============================] - 0s 2ms/step\n"
          ]
        },
        {
          "output_type": "display_data",
          "data": {
            "text/plain": [
              "'shape of y_pred:'"
            ],
            "application/vnd.google.colaboratory.intrinsic+json": {
              "type": "string"
            }
          },
          "metadata": {}
        },
        {
          "output_type": "display_data",
          "data": {
            "text/plain": [
              "(425,)"
            ]
          },
          "metadata": {}
        },
        {
          "output_type": "display_data",
          "data": {
            "text/plain": [
              "{'baseline': {'accuracy': 0.6544428772919605,\n",
              "  'precision': 0.6544428772919605,\n",
              "  'recall': 0.6544428772919605,\n",
              "  'f1': 0.6544428772919605},\n",
              " 'model1': {'accuracy': 0.6823529411764706,\n",
              "  'precision': 0.6481568627450981,\n",
              "  'recall': 0.6823529411764706,\n",
              "  'f1': 0.5629476314645805},\n",
              " 'model2': {'accuracy': 0.6776470588235294,\n",
              "  'precision': 0.4592055363321799,\n",
              "  'recall': 0.6776470588235294,\n",
              "  'f1': 0.5474399801996535}}"
            ]
          },
          "metadata": {}
        },
        {
          "output_type": "execute_result",
          "data": {
            "text/plain": [
              "({'accuracy': 0.6776470588235294,\n",
              "  'precision': 0.4592055363321799,\n",
              "  'recall': 0.6776470588235294,\n",
              "  'f1': 0.5474399801996535},\n",
              " {'classification_report': '              precision    recall  f1-score   support\\n\\n         0.0       0.00      0.00      0.00        61\\n         1.0       0.68      1.00      0.81       288\\n         2.0       0.00      0.00      0.00        76\\n\\n    accuracy                           0.68       425\\n   macro avg       0.23      0.33      0.27       425\\nweighted avg       0.46      0.68      0.55       425\\n',\n",
              "  'confusion_matrix': array([[  0,  61,   0],\n",
              "         [  0, 288,   0],\n",
              "         [  0,  76,   0]])})"
            ]
          },
          "metadata": {},
          "execution_count": 17
        }
      ]
    },
    {
      "cell_type": "markdown",
      "source": [
        "## Model 3 - Single Layer LSTM"
      ],
      "metadata": {
        "id": "GZmVK2pcjXFp"
      }
    },
    {
      "cell_type": "code",
      "source": [
        "# set random seed for reproducible results\n",
        "tf.random.set_seed(88)\n",
        "model_name = 'model3_lstm'\n",
        "# building the dropout model\n",
        "features = len(data.columns) - 1\n",
        "input = layers.Input(shape=(features,), name='input')\n",
        "scaling = layers.LayerNormalization()(input)\n",
        "\n",
        "reshape = layers.Lambda(lambda x: tf.expand_dims(x, axis=1))(scaling)\n",
        "lstm = layers.LSTM(256, dropout=0.1)(reshape)\n",
        "\n",
        "output = layers.Dense(3, activation='softmax')(lstm)\n",
        "\n",
        "model3 = tf.keras.Model(inputs=input,\n",
        "                        outputs=output,\n",
        "                        name=model_name)\n",
        "\n",
        "\n",
        "model3.compile(loss=\"sparse_categorical_crossentropy\",\n",
        "                optimizer=tf.keras.optimizers.Adam(),\n",
        "                metrics=[\"accuracy\"])\n",
        "# visualize\n",
        "plot_model(model3, show_shapes=True)"
      ],
      "metadata": {
        "id": "eEpMqNsVOLyL",
        "colab": {
          "base_uri": "https://localhost:8080/",
          "height": 533
        },
        "outputId": "6ff4ac02-d470-4acc-f6de-3e7c301fa86e"
      },
      "execution_count": null,
      "outputs": [
        {
          "output_type": "execute_result",
          "data": {
            "image/png": "[encoded data removed]",
            "text/plain": [
              "<IPython.core.display.Image object>"
            ]
          },
          "metadata": {},
          "execution_count": 18
        }
      ]
    },
    {
      "cell_type": "code",
      "source": [
        "history3, filepath, X_test, y_test = train_model(model3, data, model_name, epochs=500)\n",
        "model_evaluation(model3, model_name, filepath, X_test, y_test)"
      ],
      "metadata": {
        "id": "_ztwbZzOtzIT",
        "colab": {
          "base_uri": "https://localhost:8080/",
          "height": 1000
        },
        "outputId": "c99a34d5-85f5-4e5c-fce9-b5d609e2e303"
      },
      "execution_count": null,
      "outputs": [
        {
          "output_type": "display_data",
          "data": {
            "text/plain": [
              "(1699, 8)"
            ]
          },
          "metadata": {}
        },
        {
          "output_type": "display_data",
          "data": {
            "text/plain": [
              "(425, 8)"
            ]
          },
          "metadata": {}
        },
        {
          "output_type": "display_data",
          "data": {
            "text/plain": [
              "(1699,)"
            ]
          },
          "metadata": {}
        },
        {
          "output_type": "display_data",
          "data": {
            "text/plain": [
              "(425,)"
            ]
          },
          "metadata": {}
        },
        {
          "output_type": "stream",
          "name": "stdout",
          "text": [
            "Epoch 1/500\n",
            "14/14 [==============================] - 3s 62ms/step - loss: 1.0580 - accuracy: 0.5550 - val_loss: 1.0237 - val_accuracy: 0.6071\n",
            "Epoch 2/500\n",
            "14/14 [==============================] - 0s 17ms/step - loss: 0.9681 - accuracy: 0.6557 - val_loss: 0.9506 - val_accuracy: 0.6471\n",
            "Epoch 3/500\n",
            "14/14 [==============================] - 0s 18ms/step - loss: 0.8728 - accuracy: 0.7098 - val_loss: 0.8848 - val_accuracy: 0.6659\n",
            "Epoch 4/500\n",
            "14/14 [==============================] - 0s 16ms/step - loss: 0.7715 - accuracy: 0.7557 - val_loss: 0.8452 - val_accuracy: 0.6776\n",
            "Epoch 5/500\n",
            "14/14 [==============================] - 0s 15ms/step - loss: 0.6879 - accuracy: 0.7911 - val_loss: 0.8461 - val_accuracy: 0.6776\n",
            "Epoch 6/500\n",
            "14/14 [==============================] - 0s 15ms/step - loss: 0.6487 - accuracy: 0.7928 - val_loss: 0.8776 - val_accuracy: 0.6776\n",
            "Epoch 7/500\n",
            "14/14 [==============================] - 0s 16ms/step - loss: 0.6445 - accuracy: 0.7928 - val_loss: 0.8888 - val_accuracy: 0.6776\n",
            "Epoch 8/500\n",
            "14/14 [==============================] - 0s 16ms/step - loss: 0.6425 - accuracy: 0.7928 - val_loss: 0.8939 - val_accuracy: 0.6776\n",
            "Epoch 9/500\n",
            "14/14 [==============================] - 0s 18ms/step - loss: 0.6395 - accuracy: 0.7928 - val_loss: 0.8880 - val_accuracy: 0.6776\n",
            "Epoch 10/500\n",
            "14/14 [==============================] - 0s 16ms/step - loss: 0.6350 - accuracy: 0.7928 - val_loss: 0.8900 - val_accuracy: 0.6776\n",
            "Epoch 11/500\n",
            "14/14 [==============================] - 0s 15ms/step - loss: 0.6365 - accuracy: 0.7928 - val_loss: 0.8920 - val_accuracy: 0.6776\n",
            "Epoch 12/500\n",
            "14/14 [==============================] - 0s 14ms/step - loss: 0.6387 - accuracy: 0.7928 - val_loss: 0.8931 - val_accuracy: 0.6776\n",
            "Epoch 13/500\n",
            "14/14 [==============================] - 0s 14ms/step - loss: 0.6383 - accuracy: 0.7928 - val_loss: 0.8841 - val_accuracy: 0.6776\n",
            "Epoch 14/500\n",
            "14/14 [==============================] - 0s 15ms/step - loss: 0.6370 - accuracy: 0.7928 - val_loss: 0.8905 - val_accuracy: 0.6776\n",
            "Epoch 15/500\n",
            "14/14 [==============================] - 0s 15ms/step - loss: 0.6372 - accuracy: 0.7928 - val_loss: 0.8877 - val_accuracy: 0.6776\n",
            "Epoch 16/500\n",
            "14/14 [==============================] - 0s 16ms/step - loss: 0.6329 - accuracy: 0.7928 - val_loss: 0.8809 - val_accuracy: 0.6776\n",
            "Epoch 17/500\n",
            "14/14 [==============================] - 0s 19ms/step - loss: 0.6348 - accuracy: 0.7928 - val_loss: 0.8863 - val_accuracy: 0.6776\n",
            "Epoch 18/500\n",
            "14/14 [==============================] - 0s 17ms/step - loss: 0.6304 - accuracy: 0.7928 - val_loss: 0.8867 - val_accuracy: 0.6776\n",
            "Epoch 19/500\n",
            "14/14 [==============================] - 0s 17ms/step - loss: 0.6305 - accuracy: 0.7928 - val_loss: 0.8889 - val_accuracy: 0.6776\n",
            "Epoch 20/500\n",
            "14/14 [==============================] - 0s 15ms/step - loss: 0.6313 - accuracy: 0.7928 - val_loss: 0.8901 - val_accuracy: 0.6776\n",
            "Epoch 21/500\n",
            "14/14 [==============================] - 0s 17ms/step - loss: 0.6328 - accuracy: 0.7928 - val_loss: 0.8903 - val_accuracy: 0.6776\n",
            "Epoch 22/500\n",
            "14/14 [==============================] - 0s 19ms/step - loss: 0.6326 - accuracy: 0.7928 - val_loss: 0.8849 - val_accuracy: 0.6776\n",
            "Epoch 23/500\n",
            "14/14 [==============================] - 0s 18ms/step - loss: 0.6333 - accuracy: 0.7928 - val_loss: 0.8885 - val_accuracy: 0.6776\n",
            "Epoch 24/500\n",
            "14/14 [==============================] - 0s 15ms/step - loss: 0.6325 - accuracy: 0.7928 - val_loss: 0.8901 - val_accuracy: 0.6776\n",
            "Epoch 25/500\n",
            "14/14 [==============================] - 0s 16ms/step - loss: 0.6284 - accuracy: 0.7928 - val_loss: 0.8860 - val_accuracy: 0.6776\n",
            "Epoch 26/500\n",
            "14/14 [==============================] - 0s 15ms/step - loss: 0.6311 - accuracy: 0.7928 - val_loss: 0.8898 - val_accuracy: 0.6776\n",
            "Epoch 27/500\n",
            "14/14 [==============================] - 0s 15ms/step - loss: 0.6293 - accuracy: 0.7928 - val_loss: 0.8821 - val_accuracy: 0.6776\n",
            "Epoch 28/500\n",
            "14/14 [==============================] - 0s 14ms/step - loss: 0.6340 - accuracy: 0.7928 - val_loss: 0.8795 - val_accuracy: 0.6776\n",
            "Epoch 29/500\n",
            "14/14 [==============================] - 0s 14ms/step - loss: 0.6301 - accuracy: 0.7928 - val_loss: 0.8873 - val_accuracy: 0.6776\n",
            "Epoch 30/500\n",
            "14/14 [==============================] - 0s 22ms/step - loss: 0.6299 - accuracy: 0.7928 - val_loss: 0.8898 - val_accuracy: 0.6776\n",
            "Epoch 31/500\n",
            "14/14 [==============================] - 0s 26ms/step - loss: 0.6270 - accuracy: 0.7928 - val_loss: 0.8859 - val_accuracy: 0.6776\n",
            "Epoch 32/500\n",
            "14/14 [==============================] - 0s 22ms/step - loss: 0.6295 - accuracy: 0.7928 - val_loss: 0.8878 - val_accuracy: 0.6776\n",
            "Epoch 33/500\n",
            "14/14 [==============================] - 0s 26ms/step - loss: 0.6318 - accuracy: 0.7928 - val_loss: 0.8819 - val_accuracy: 0.6776\n",
            "Epoch 34/500\n",
            "14/14 [==============================] - 0s 26ms/step - loss: 0.6290 - accuracy: 0.7928 - val_loss: 0.8794 - val_accuracy: 0.6776\n",
            "Epoch 35/500\n",
            "14/14 [==============================] - 0s 24ms/step - loss: 0.6270 - accuracy: 0.7928 - val_loss: 0.8849 - val_accuracy: 0.6776\n",
            "Epoch 36/500\n",
            "14/14 [==============================] - 0s 25ms/step - loss: 0.6251 - accuracy: 0.7928 - val_loss: 0.8884 - val_accuracy: 0.6776\n",
            "Epoch 37/500\n",
            "14/14 [==============================] - 0s 24ms/step - loss: 0.6293 - accuracy: 0.7928 - val_loss: 0.8951 - val_accuracy: 0.6776\n",
            "Epoch 38/500\n",
            "14/14 [==============================] - 0s 28ms/step - loss: 0.6303 - accuracy: 0.7928 - val_loss: 0.8851 - val_accuracy: 0.6776\n",
            "Epoch 39/500\n",
            "14/14 [==============================] - 0s 27ms/step - loss: 0.6312 - accuracy: 0.7928 - val_loss: 0.8857 - val_accuracy: 0.6776\n",
            "Epoch 40/500\n",
            "14/14 [==============================] - 0s 28ms/step - loss: 0.6268 - accuracy: 0.7928 - val_loss: 0.8908 - val_accuracy: 0.6776\n",
            "Epoch 41/500\n",
            "14/14 [==============================] - 0s 26ms/step - loss: 0.6282 - accuracy: 0.7928 - val_loss: 0.8948 - val_accuracy: 0.6776\n",
            "Epoch 42/500\n",
            "14/14 [==============================] - 0s 15ms/step - loss: 0.6235 - accuracy: 0.7928 - val_loss: 0.8886 - val_accuracy: 0.6776\n",
            "Epoch 43/500\n",
            "14/14 [==============================] - 0s 14ms/step - loss: 0.6265 - accuracy: 0.7928 - val_loss: 0.8933 - val_accuracy: 0.6776\n",
            "Epoch 44/500\n",
            "14/14 [==============================] - 0s 15ms/step - loss: 0.6272 - accuracy: 0.7928 - val_loss: 0.8901 - val_accuracy: 0.6776\n",
            "Epoch 45/500\n",
            "14/14 [==============================] - 0s 14ms/step - loss: 0.6265 - accuracy: 0.7928 - val_loss: 0.8862 - val_accuracy: 0.6776\n",
            "Epoch 46/500\n",
            "14/14 [==============================] - 0s 14ms/step - loss: 0.6251 - accuracy: 0.7928 - val_loss: 0.8936 - val_accuracy: 0.6776\n",
            "Epoch 47/500\n",
            "14/14 [==============================] - 0s 13ms/step - loss: 0.6251 - accuracy: 0.7928 - val_loss: 0.8927 - val_accuracy: 0.6776\n",
            "Epoch 48/500\n",
            "14/14 [==============================] - 0s 14ms/step - loss: 0.6233 - accuracy: 0.7928 - val_loss: 0.8943 - val_accuracy: 0.6776\n",
            "Epoch 49/500\n",
            "14/14 [==============================] - 0s 14ms/step - loss: 0.6225 - accuracy: 0.7928 - val_loss: 0.8970 - val_accuracy: 0.6776\n",
            "Epoch 50/500\n",
            "14/14 [==============================] - 0s 18ms/step - loss: 0.6224 - accuracy: 0.7928 - val_loss: 0.8929 - val_accuracy: 0.6776\n",
            "Epoch 51/500\n",
            "14/14 [==============================] - 0s 18ms/step - loss: 0.6218 - accuracy: 0.7928 - val_loss: 0.8851 - val_accuracy: 0.6776\n",
            "Epoch 52/500\n",
            "14/14 [==============================] - 0s 17ms/step - loss: 0.6222 - accuracy: 0.7928 - val_loss: 0.8939 - val_accuracy: 0.6776\n",
            "Epoch 53/500\n",
            "14/14 [==============================] - 0s 18ms/step - loss: 0.6214 - accuracy: 0.7928 - val_loss: 0.9033 - val_accuracy: 0.6776\n",
            "Epoch 54/500\n",
            "14/14 [==============================] - 0s 15ms/step - loss: 0.6227 - accuracy: 0.7928 - val_loss: 0.9016 - val_accuracy: 0.6776\n",
            "Epoch 55/500\n",
            "14/14 [==============================] - 0s 15ms/step - loss: 0.6234 - accuracy: 0.7928 - val_loss: 0.9034 - val_accuracy: 0.6776\n",
            "Epoch 56/500\n",
            "14/14 [==============================] - 0s 14ms/step - loss: 0.6209 - accuracy: 0.7928 - val_loss: 0.9000 - val_accuracy: 0.6776\n",
            "Epoch 57/500\n",
            "14/14 [==============================] - 0s 15ms/step - loss: 0.6243 - accuracy: 0.7928 - val_loss: 0.8988 - val_accuracy: 0.6776\n",
            "Epoch 58/500\n",
            "14/14 [==============================] - 0s 16ms/step - loss: 0.6198 - accuracy: 0.7928 - val_loss: 0.8996 - val_accuracy: 0.6776\n",
            "Epoch 59/500\n",
            "14/14 [==============================] - 0s 17ms/step - loss: 0.6172 - accuracy: 0.7928 - val_loss: 0.8975 - val_accuracy: 0.6776\n",
            "Epoch 60/500\n",
            "14/14 [==============================] - 0s 16ms/step - loss: 0.6183 - accuracy: 0.7928 - val_loss: 0.9048 - val_accuracy: 0.6776\n",
            "Epoch 61/500\n",
            "14/14 [==============================] - 0s 17ms/step - loss: 0.6217 - accuracy: 0.7928 - val_loss: 0.9014 - val_accuracy: 0.6776\n",
            "Epoch 62/500\n",
            "14/14 [==============================] - 0s 17ms/step - loss: 0.6222 - accuracy: 0.7928 - val_loss: 0.9027 - val_accuracy: 0.6776\n",
            "Epoch 63/500\n",
            "14/14 [==============================] - 0s 19ms/step - loss: 0.6249 - accuracy: 0.7928 - val_loss: 0.9055 - val_accuracy: 0.6776\n",
            "Epoch 64/500\n",
            "14/14 [==============================] - 0s 15ms/step - loss: 0.6188 - accuracy: 0.7928 - val_loss: 0.9067 - val_accuracy: 0.6776\n",
            "Epoch 65/500\n",
            "14/14 [==============================] - 0s 16ms/step - loss: 0.6228 - accuracy: 0.7928 - val_loss: 0.9072 - val_accuracy: 0.6776\n",
            "Epoch 66/500\n",
            "14/14 [==============================] - 0s 17ms/step - loss: 0.6185 - accuracy: 0.7928 - val_loss: 0.9047 - val_accuracy: 0.6776\n",
            "Epoch 67/500\n",
            "14/14 [==============================] - 0s 17ms/step - loss: 0.6223 - accuracy: 0.7928 - val_loss: 0.9036 - val_accuracy: 0.6776\n",
            "Epoch 68/500\n",
            "14/14 [==============================] - 0s 17ms/step - loss: 0.6262 - accuracy: 0.7928 - val_loss: 0.9046 - val_accuracy: 0.6776\n",
            "Epoch 69/500\n",
            "14/14 [==============================] - 0s 17ms/step - loss: 0.6182 - accuracy: 0.7928 - val_loss: 0.9017 - val_accuracy: 0.6776\n"
          ]
        },
        {
          "output_type": "display_data",
          "data": {
            "text/plain": [
              "'shape of x-te:'"
            ],
            "application/vnd.google.colaboratory.intrinsic+json": {
              "type": "string"
            }
          },
          "metadata": {}
        },
        {
          "output_type": "display_data",
          "data": {
            "text/plain": [
              "(425, 8)"
            ]
          },
          "metadata": {}
        },
        {
          "output_type": "stream",
          "name": "stdout",
          "text": [
            "14/14 [==============================] - 0s 3ms/step\n"
          ]
        },
        {
          "output_type": "display_data",
          "data": {
            "text/plain": [
              "'shape of y_pred:'"
            ],
            "application/vnd.google.colaboratory.intrinsic+json": {
              "type": "string"
            }
          },
          "metadata": {}
        },
        {
          "output_type": "display_data",
          "data": {
            "text/plain": [
              "(425,)"
            ]
          },
          "metadata": {}
        },
        {
          "output_type": "display_data",
          "data": {
            "text/plain": [
              "{'baseline': {'accuracy': 0.6544428772919605,\n",
              "  'precision': 0.6544428772919605,\n",
              "  'recall': 0.6544428772919605,\n",
              "  'f1': 0.6544428772919605},\n",
              " 'model1': {'accuracy': 0.6823529411764706,\n",
              "  'precision': 0.6481568627450981,\n",
              "  'recall': 0.6823529411764706,\n",
              "  'f1': 0.5629476314645805},\n",
              " 'model2': {'accuracy': 0.6776470588235294,\n",
              "  'precision': 0.4592055363321799,\n",
              "  'recall': 0.6776470588235294,\n",
              "  'f1': 0.5474399801996535},\n",
              " 'model3_lstm': {'accuracy': 0.6776470588235294,\n",
              "  'precision': 0.4592055363321799,\n",
              "  'recall': 0.6776470588235294,\n",
              "  'f1': 0.5474399801996535}}"
            ]
          },
          "metadata": {}
        },
        {
          "output_type": "execute_result",
          "data": {
            "text/plain": [
              "({'accuracy': 0.6776470588235294,\n",
              "  'precision': 0.4592055363321799,\n",
              "  'recall': 0.6776470588235294,\n",
              "  'f1': 0.5474399801996535},\n",
              " {'classification_report': '              precision    recall  f1-score   support\\n\\n         0.0       0.00      0.00      0.00        61\\n         1.0       0.68      1.00      0.81       288\\n         2.0       0.00      0.00      0.00        76\\n\\n    accuracy                           0.68       425\\n   macro avg       0.23      0.33      0.27       425\\nweighted avg       0.46      0.68      0.55       425\\n',\n",
              "  'confusion_matrix': array([[  0,  61,   0],\n",
              "         [  0, 288,   0],\n",
              "         [  0,  76,   0]])})"
            ]
          },
          "metadata": {},
          "execution_count": 19
        }
      ]
    },
    {
      "cell_type": "markdown",
      "source": [
        "## Model 4 - 3 layer LSTM"
      ],
      "metadata": {
        "id": "3-Qz0IsPLg1F"
      }
    },
    {
      "cell_type": "code",
      "source": [
        "# set random seed for reproducible results\n",
        "tf.random.set_seed(88)\n",
        "model_name = 'model4_lstm3'\n",
        "# building the dropout model\n",
        "features = len(data.columns) - 1\n",
        "input = layers.Input(shape=(features,), name='input')\n",
        "\n",
        "reshape = layers.Lambda(lambda x: tf.expand_dims(x, axis=1))(input)\n",
        "lstm = layers.LSTM(128)(reshape)\n",
        "drop1 = layers.Dropout(0.2)(lstm)\n",
        "reshape2 = layers.Lambda(lambda x: tf.expand_dims(x, axis=1))(drop1)\n",
        "lstm2 = layers.LSTM(128)(reshape2)\n",
        "drop2 = layers.Dropout(0.2)(lstm2)\n",
        "reshape3 = layers.Lambda(lambda x: tf.expand_dims(x, axis=1))(drop2)\n",
        "lstm3 = layers.LSTM(128)(reshape3)\n",
        "drop3 = layers.Dropout(0.2)(lstm3)\n",
        "\n",
        "output = layers.Dense(3, activation='softmax')(drop3)\n",
        "\n",
        "model4 = tf.keras.Model(inputs=input,\n",
        "                        outputs=output,\n",
        "                        name=model_name)\n",
        "\n",
        "model4.compile(loss=\"sparse_categorical_crossentropy\",\n",
        "                optimizer=tf.keras.optimizers.Adam(),\n",
        "                metrics=[\"accuracy\"])\n",
        "# visualize\n",
        "plot_model(model4, show_shapes=True)"
      ],
      "metadata": {
        "id": "bS0t1N2zLPKV",
        "colab": {
          "base_uri": "https://localhost:8080/",
          "height": 1000
        },
        "outputId": "4a5ab943-716b-4cd7-90cf-d541036d99bc"
      },
      "execution_count": null,
      "outputs": [
        {
          "output_type": "execute_result",
          "data": {
            "image/png": "[encoded data removed]",
            "text/plain": [
              "<IPython.core.display.Image object>"
            ]
          },
          "metadata": {},
          "execution_count": 20
        }
      ]
    },
    {
      "cell_type": "code",
      "source": [
        "history4, filepath, X_test, y_test = train_model(model4, data, model_name, epochs=500)\n",
        "model_evaluation(model4, model_name, filepath, X_test, y_test)"
      ],
      "metadata": {
        "id": "vHda0uz0x6Ni",
        "colab": {
          "base_uri": "https://localhost:8080/",
          "height": 1000
        },
        "outputId": "b560b926-46ab-4217-9d37-6b0e436a463e"
      },
      "execution_count": null,
      "outputs": [
        {
          "output_type": "display_data",
          "data": {
            "text/plain": [
              "(1699, 8)"
            ]
          },
          "metadata": {}
        },
        {
          "output_type": "display_data",
          "data": {
            "text/plain": [
              "(425, 8)"
            ]
          },
          "metadata": {}
        },
        {
          "output_type": "display_data",
          "data": {
            "text/plain": [
              "(1699,)"
            ]
          },
          "metadata": {}
        },
        {
          "output_type": "display_data",
          "data": {
            "text/plain": [
              "(425,)"
            ]
          },
          "metadata": {}
        },
        {
          "output_type": "stream",
          "name": "stdout",
          "text": [
            "Epoch 1/500\n",
            "14/14 [==============================] - 14s 137ms/step - loss: 1.0765 - accuracy: 0.7593 - val_loss: 1.0531 - val_accuracy: 0.6776\n",
            "Epoch 2/500\n",
            "14/14 [==============================] - 0s 36ms/step - loss: 0.9873 - accuracy: 0.7928 - val_loss: 0.9425 - val_accuracy: 0.6776\n",
            "Epoch 3/500\n",
            "14/14 [==============================] - 1s 41ms/step - loss: 0.7908 - accuracy: 0.7928 - val_loss: 0.8867 - val_accuracy: 0.6776\n",
            "Epoch 4/500\n",
            "14/14 [==============================] - 1s 40ms/step - loss: 0.6657 - accuracy: 0.7922 - val_loss: 0.9831 - val_accuracy: 0.6776\n",
            "Epoch 5/500\n",
            "14/14 [==============================] - 1s 41ms/step - loss: 0.6432 - accuracy: 0.7928 - val_loss: 0.8906 - val_accuracy: 0.6776\n",
            "Epoch 6/500\n",
            "14/14 [==============================] - 1s 38ms/step - loss: 0.6356 - accuracy: 0.7946 - val_loss: 0.9069 - val_accuracy: 0.6776\n",
            "Epoch 7/500\n",
            "14/14 [==============================] - 1s 38ms/step - loss: 0.6306 - accuracy: 0.7928 - val_loss: 0.8927 - val_accuracy: 0.6776\n",
            "Epoch 8/500\n",
            "14/14 [==============================] - 1s 38ms/step - loss: 0.6259 - accuracy: 0.7952 - val_loss: 0.9040 - val_accuracy: 0.6776\n",
            "Epoch 9/500\n",
            "14/14 [==============================] - 1s 39ms/step - loss: 0.6255 - accuracy: 0.7958 - val_loss: 0.8920 - val_accuracy: 0.6776\n",
            "Epoch 10/500\n",
            "14/14 [==============================] - 0s 31ms/step - loss: 0.6252 - accuracy: 0.7952 - val_loss: 0.8973 - val_accuracy: 0.6776\n",
            "Epoch 11/500\n",
            "14/14 [==============================] - 0s 27ms/step - loss: 0.6242 - accuracy: 0.7958 - val_loss: 0.8887 - val_accuracy: 0.6776\n",
            "Epoch 12/500\n",
            "14/14 [==============================] - 0s 28ms/step - loss: 0.6260 - accuracy: 0.7952 - val_loss: 0.8954 - val_accuracy: 0.6753\n",
            "Epoch 13/500\n",
            "14/14 [==============================] - 0s 24ms/step - loss: 0.6184 - accuracy: 0.7958 - val_loss: 0.8856 - val_accuracy: 0.6753\n",
            "Epoch 14/500\n",
            "14/14 [==============================] - 0s 24ms/step - loss: 0.6221 - accuracy: 0.7964 - val_loss: 0.8967 - val_accuracy: 0.6753\n",
            "Epoch 15/500\n",
            "14/14 [==============================] - 0s 27ms/step - loss: 0.6202 - accuracy: 0.7952 - val_loss: 0.8851 - val_accuracy: 0.6753\n",
            "Epoch 16/500\n",
            "14/14 [==============================] - 0s 23ms/step - loss: 0.6176 - accuracy: 0.7952 - val_loss: 0.8776 - val_accuracy: 0.6776\n",
            "Epoch 17/500\n",
            "14/14 [==============================] - 0s 21ms/step - loss: 0.6190 - accuracy: 0.7958 - val_loss: 0.8920 - val_accuracy: 0.6753\n",
            "Epoch 18/500\n",
            "14/14 [==============================] - 0s 23ms/step - loss: 0.6183 - accuracy: 0.7975 - val_loss: 0.8843 - val_accuracy: 0.6800\n",
            "Epoch 19/500\n",
            "14/14 [==============================] - 0s 21ms/step - loss: 0.6140 - accuracy: 0.7975 - val_loss: 0.8901 - val_accuracy: 0.6729\n",
            "Epoch 20/500\n",
            "14/14 [==============================] - 0s 21ms/step - loss: 0.6170 - accuracy: 0.7964 - val_loss: 0.8952 - val_accuracy: 0.6753\n",
            "Epoch 21/500\n",
            "14/14 [==============================] - 0s 24ms/step - loss: 0.6194 - accuracy: 0.7946 - val_loss: 0.8907 - val_accuracy: 0.6753\n",
            "Epoch 22/500\n",
            "14/14 [==============================] - 0s 21ms/step - loss: 0.6175 - accuracy: 0.7975 - val_loss: 0.8789 - val_accuracy: 0.6776\n",
            "Epoch 23/500\n",
            "14/14 [==============================] - 0s 21ms/step - loss: 0.6165 - accuracy: 0.7952 - val_loss: 0.8904 - val_accuracy: 0.6776\n",
            "Epoch 24/500\n",
            "14/14 [==============================] - 0s 21ms/step - loss: 0.6132 - accuracy: 0.7940 - val_loss: 0.8900 - val_accuracy: 0.6753\n",
            "Epoch 25/500\n",
            "14/14 [==============================] - 0s 20ms/step - loss: 0.6167 - accuracy: 0.7969 - val_loss: 0.8858 - val_accuracy: 0.6753\n",
            "Epoch 26/500\n",
            "14/14 [==============================] - 0s 21ms/step - loss: 0.6184 - accuracy: 0.7964 - val_loss: 0.8891 - val_accuracy: 0.6753\n",
            "Epoch 27/500\n",
            "14/14 [==============================] - 0s 21ms/step - loss: 0.6115 - accuracy: 0.7946 - val_loss: 0.8768 - val_accuracy: 0.6753\n",
            "Epoch 28/500\n",
            "14/14 [==============================] - 0s 21ms/step - loss: 0.6179 - accuracy: 0.7940 - val_loss: 0.8835 - val_accuracy: 0.6776\n",
            "Epoch 29/500\n",
            "14/14 [==============================] - 0s 20ms/step - loss: 0.6122 - accuracy: 0.7964 - val_loss: 0.8869 - val_accuracy: 0.6706\n",
            "Epoch 30/500\n",
            "14/14 [==============================] - 0s 21ms/step - loss: 0.6122 - accuracy: 0.7964 - val_loss: 0.8888 - val_accuracy: 0.6729\n",
            "Epoch 31/500\n",
            "14/14 [==============================] - 0s 22ms/step - loss: 0.6141 - accuracy: 0.7928 - val_loss: 0.8829 - val_accuracy: 0.6729\n",
            "Epoch 32/500\n",
            "14/14 [==============================] - 0s 21ms/step - loss: 0.6088 - accuracy: 0.7969 - val_loss: 0.8959 - val_accuracy: 0.6706\n",
            "Epoch 33/500\n",
            "14/14 [==============================] - 0s 21ms/step - loss: 0.6137 - accuracy: 0.7952 - val_loss: 0.8789 - val_accuracy: 0.6753\n",
            "Epoch 34/500\n",
            "14/14 [==============================] - 0s 24ms/step - loss: 0.6102 - accuracy: 0.7946 - val_loss: 0.8771 - val_accuracy: 0.6706\n",
            "Epoch 35/500\n",
            "14/14 [==============================] - 0s 21ms/step - loss: 0.6109 - accuracy: 0.7940 - val_loss: 0.8945 - val_accuracy: 0.6706\n",
            "Epoch 36/500\n",
            "14/14 [==============================] - 0s 21ms/step - loss: 0.6139 - accuracy: 0.7946 - val_loss: 0.8903 - val_accuracy: 0.6776\n",
            "Epoch 37/500\n",
            "14/14 [==============================] - 0s 25ms/step - loss: 0.6117 - accuracy: 0.7946 - val_loss: 0.8931 - val_accuracy: 0.6753\n",
            "Epoch 38/500\n",
            "14/14 [==============================] - 0s 20ms/step - loss: 0.6125 - accuracy: 0.7969 - val_loss: 0.8773 - val_accuracy: 0.6729\n",
            "Epoch 39/500\n",
            "14/14 [==============================] - 0s 21ms/step - loss: 0.6116 - accuracy: 0.7946 - val_loss: 0.8871 - val_accuracy: 0.6729\n",
            "Epoch 40/500\n",
            "14/14 [==============================] - 0s 24ms/step - loss: 0.6098 - accuracy: 0.7975 - val_loss: 0.8990 - val_accuracy: 0.6753\n",
            "Epoch 41/500\n",
            "14/14 [==============================] - 0s 25ms/step - loss: 0.6081 - accuracy: 0.7946 - val_loss: 0.8892 - val_accuracy: 0.6753\n",
            "Epoch 42/500\n",
            "14/14 [==============================] - 1s 37ms/step - loss: 0.6073 - accuracy: 0.7958 - val_loss: 0.8864 - val_accuracy: 0.6753\n",
            "Epoch 43/500\n",
            "14/14 [==============================] - 0s 34ms/step - loss: 0.6109 - accuracy: 0.7981 - val_loss: 0.8949 - val_accuracy: 0.6753\n",
            "Epoch 44/500\n",
            "14/14 [==============================] - 1s 37ms/step - loss: 0.6119 - accuracy: 0.7975 - val_loss: 0.8947 - val_accuracy: 0.6729\n",
            "Epoch 45/500\n",
            "14/14 [==============================] - 0s 34ms/step - loss: 0.6069 - accuracy: 0.7952 - val_loss: 0.8881 - val_accuracy: 0.6729\n",
            "Epoch 46/500\n",
            "14/14 [==============================] - 0s 35ms/step - loss: 0.6085 - accuracy: 0.7987 - val_loss: 0.8955 - val_accuracy: 0.6729\n",
            "Epoch 47/500\n",
            "14/14 [==============================] - 0s 35ms/step - loss: 0.6049 - accuracy: 0.7964 - val_loss: 0.8877 - val_accuracy: 0.6753\n",
            "Epoch 48/500\n",
            "14/14 [==============================] - 1s 37ms/step - loss: 0.6112 - accuracy: 0.7958 - val_loss: 0.8978 - val_accuracy: 0.6776\n",
            "Epoch 49/500\n",
            "14/14 [==============================] - 1s 36ms/step - loss: 0.6104 - accuracy: 0.7969 - val_loss: 0.8894 - val_accuracy: 0.6729\n",
            "Epoch 50/500\n",
            "14/14 [==============================] - 1s 39ms/step - loss: 0.6057 - accuracy: 0.7981 - val_loss: 0.9000 - val_accuracy: 0.6753\n",
            "Epoch 51/500\n",
            "14/14 [==============================] - 0s 22ms/step - loss: 0.6125 - accuracy: 0.7958 - val_loss: 0.8867 - val_accuracy: 0.6800\n",
            "Epoch 52/500\n",
            "14/14 [==============================] - 0s 21ms/step - loss: 0.6067 - accuracy: 0.7964 - val_loss: 0.8998 - val_accuracy: 0.6776\n",
            "Epoch 53/500\n",
            "14/14 [==============================] - 0s 20ms/step - loss: 0.6070 - accuracy: 0.7940 - val_loss: 0.9056 - val_accuracy: 0.6729\n",
            "Epoch 54/500\n",
            "14/14 [==============================] - 0s 24ms/step - loss: 0.6072 - accuracy: 0.7964 - val_loss: 0.9098 - val_accuracy: 0.6776\n",
            "Epoch 55/500\n",
            "14/14 [==============================] - 0s 21ms/step - loss: 0.6067 - accuracy: 0.7958 - val_loss: 0.9048 - val_accuracy: 0.6706\n",
            "Epoch 56/500\n",
            "14/14 [==============================] - 0s 21ms/step - loss: 0.6075 - accuracy: 0.7969 - val_loss: 0.8986 - val_accuracy: 0.6753\n",
            "Epoch 57/500\n",
            "14/14 [==============================] - 0s 24ms/step - loss: 0.6096 - accuracy: 0.7964 - val_loss: 0.9065 - val_accuracy: 0.6800\n"
          ]
        },
        {
          "output_type": "display_data",
          "data": {
            "text/plain": [
              "'shape of x-te:'"
            ],
            "application/vnd.google.colaboratory.intrinsic+json": {
              "type": "string"
            }
          },
          "metadata": {}
        },
        {
          "output_type": "display_data",
          "data": {
            "text/plain": [
              "(425, 8)"
            ]
          },
          "metadata": {}
        },
        {
          "output_type": "stream",
          "name": "stdout",
          "text": [
            "14/14 [==============================] - 1s 3ms/step\n"
          ]
        },
        {
          "output_type": "display_data",
          "data": {
            "text/plain": [
              "'shape of y_pred:'"
            ],
            "application/vnd.google.colaboratory.intrinsic+json": {
              "type": "string"
            }
          },
          "metadata": {}
        },
        {
          "output_type": "display_data",
          "data": {
            "text/plain": [
              "(425,)"
            ]
          },
          "metadata": {}
        },
        {
          "output_type": "display_data",
          "data": {
            "text/plain": [
              "{'baseline': {'accuracy': 0.6544428772919605,\n",
              "  'precision': 0.6544428772919605,\n",
              "  'recall': 0.6544428772919605,\n",
              "  'f1': 0.6544428772919605},\n",
              " 'model1': {'accuracy': 0.6823529411764706,\n",
              "  'precision': 0.6481568627450981,\n",
              "  'recall': 0.6823529411764706,\n",
              "  'f1': 0.5629476314645805},\n",
              " 'model2': {'accuracy': 0.6776470588235294,\n",
              "  'precision': 0.4592055363321799,\n",
              "  'recall': 0.6776470588235294,\n",
              "  'f1': 0.5474399801996535},\n",
              " 'model3_lstm': {'accuracy': 0.6776470588235294,\n",
              "  'precision': 0.4592055363321799,\n",
              "  'recall': 0.6776470588235294,\n",
              "  'f1': 0.5474399801996535},\n",
              " 'model4_lstm3': {'accuracy': 0.68,\n",
              "  'precision': 0.6038179800221976,\n",
              "  'recall': 0.68,\n",
              "  'f1': 0.5528388376010064}}"
            ]
          },
          "metadata": {}
        },
        {
          "output_type": "execute_result",
          "data": {
            "text/plain": [
              "({'accuracy': 0.68,\n",
              "  'precision': 0.6038179800221976,\n",
              "  'recall': 0.68,\n",
              "  'f1': 0.5528388376010064},\n",
              " {'classification_report': '              precision    recall  f1-score   support\\n\\n         0.0       1.00      0.02      0.03        61\\n         1.0       0.68      1.00      0.81       288\\n         2.0       0.00      0.00      0.00        76\\n\\n    accuracy                           0.68       425\\n   macro avg       0.56      0.34      0.28       425\\nweighted avg       0.60      0.68      0.55       425\\n',\n",
              "  'confusion_matrix': array([[  1,  60,   0],\n",
              "         [  0, 288,   0],\n",
              "         [  0,  76,   0]])})"
            ]
          },
          "metadata": {},
          "execution_count": 21
        }
      ]
    },
    {
      "cell_type": "markdown",
      "source": [
        "# Hyperparameter Tuning\n",
        "\n",
        "I will hyperparameter tune the CNN/LSTM layer.\n",
        "\n",
        "1. Training Batch size - 32, 128\n",
        "2. Number of LSTM nodes - 32, 128\n",
        "3. CNN layer - True or False\n",
        "4. optimizer - adam, sgd"
      ],
      "metadata": {
        "id": "ey346EFItrVg"
      }
    },
    {
      "cell_type": "code",
      "source": [
        "# these 2 functions need to be modified\n",
        "# to enable hyperparameter tuning\n",
        "\n",
        "def model_building_compiling_tuning(data,\n",
        "                             lstm_nodes=128,\n",
        "                                    cnn = False,\n",
        "                             opt='adam'):\n",
        "\n",
        "    \"\"\"inputs: the training dataset\n",
        "    outputs: an LSTM model\n",
        "    \"\"\"\n",
        "    tf.random.set_seed(88)\n",
        "    features = len(data.columns) - 1 # extracting the number of features to check the shape\n",
        "\n",
        "    # building the CNN model\n",
        "    input = layers.Input(shape=(features,), name='input')\n",
        "    reshape = layers.Lambda(lambda x: tf.expand_dims(x, axis=1))(input)\n",
        "    if cnn == True:\n",
        "\n",
        "        cnn_layer = layers.Conv1D(filters=128, kernel_size=32, padding='same', activation=\"relu\")(reshape)\n",
        "        max = layers.GlobalMaxPooling1D()(cnn_layer)\n",
        "        cnn_layer = layers.Lambda(lambda x: tf.expand_dims(x, axis=1))(max)\n",
        "        x = cnn_layer\n",
        "    else:\n",
        "        x = reshape\n",
        "\n",
        "    lstm = layers.LSTM(lstm_nodes)(x)\n",
        "    output = layers.Dense(3, activation='softmax')(lstm)\n",
        "\n",
        "    model = tf.keras.Model(inputs=input,\n",
        "                            outputs=output,\n",
        "                            name=\"model\")\n",
        "\n",
        "    # visualizing the model\n",
        "    plot_model(model, show_shapes=True)\n",
        "    # compiling the model\n",
        "    model.compile(loss=\"sparse_categorical_crossentropy\",\n",
        "                optimizer=opt,\n",
        "                metrics=[\"accuracy\"])\n",
        "    return model\n",
        "\n",
        "def model_training_tuning(model, data, model_name, epochs=5,\n",
        "                   batch_size=32):\n",
        "    \"\"\"\n",
        "    splits the dataset into training/test and fits the model\n",
        "    inputs: the compiled model, and the X, y dataset and the model_name for the checkpoint\n",
        "    outputs: the split dataset X_test, y_test\n",
        "    log (history) of the model fitting process,\n",
        "    the filepath for the checkpoints\n",
        "    \"\"\"\n",
        "    # split the data\n",
        "    X_train, X_test, y_train, y_test = train_test_splits(data, test_split=0.25)\n",
        "\n",
        "    #checkpoints\n",
        "    early_stop = EarlyStopping(monitor='loss', patience=10)\n",
        "\n",
        "    # Fit model\n",
        "    history = model.fit(X_train,\n",
        "           y_train,\n",
        "           epochs=epochs,\n",
        "           verbose=0,\n",
        "           batch_size=32,\n",
        "           validation_data=(X_test, y_test),\n",
        "           callbacks=[early_stop, save_best(model_name)]\n",
        "           ) # create ModelCheckpoint callback to save best model\n",
        "\n",
        "    return history, 'output/'+model_name, X_test, y_test"
      ],
      "metadata": {
        "id": "CNRJg8CIW9Fm"
      },
      "execution_count": null,
      "outputs": []
    },
    {
      "cell_type": "code",
      "source": [
        "def build_model_tuning():\n",
        "    \"\"\"\n",
        "    modification of the original build_model function\n",
        "    for hyperparameter tuning\n",
        "    \"\"\"\n",
        "\n",
        "    from sklearn.model_selection import ParameterGrid\n",
        "    # putting the hyperparameters into a grid\n",
        "    params = {\n",
        "            'batch_size' : [16, 32],\n",
        "            'lstm_nodes' : [32, 128],\n",
        "            'cnn' : [True, False],\n",
        "            'opt' : ['adam', 'sgd']\n",
        "        }\n",
        "    param_grid = ParameterGrid(params)\n",
        "\n",
        "    # start the GridSearch\n",
        "    for dict_ in tqdm(param_grid):\n",
        "        print('Parameters :', dict_.values())\n",
        "        batch_size, cnn, lstm_nodes, opt = dict_.values()\n",
        "        model_name = f\"hypertuning_{batch_size}_{lstm_nodes}_{cnn}_{opt}\"\n",
        "        print(batch_size, cnn, lstm_nodes, opt)\n",
        "        # build and compile the model\n",
        "\n",
        "        model = model_building_compiling_tuning(data, lstm_nodes,\n",
        "                             cnn,\n",
        "                             opt)\n",
        "        display(plot_model(model, show_shapes=True))\n",
        "\n",
        "        # train the model\n",
        "        model_name = model_name\n",
        "        _, filepath, X_test, y_test = model_training_tuning(model, data,\n",
        "                                                            model_name, epochs=250, batch_size = batch_size)\n",
        "\n",
        "        # evaluate the model\n",
        "        model_evaluation(model, model_name, filepath, X_test, y_test)\n",
        "\n",
        "\n",
        "\n",
        "# from tqdm import tqdm\n",
        "# build_model_tuning()"
      ],
      "metadata": {
        "id": "TTic5KtWY7Bb"
      },
      "execution_count": null,
      "outputs": []
    },
    {
      "cell_type": "markdown",
      "source": [
        "### Results"
      ],
      "metadata": {
        "id": "3hvoUeuyhldn"
      }
    },
    {
      "cell_type": "code",
      "source": [
        "results = pd.DataFrame(metrics_log).T"
      ],
      "metadata": {
        "id": "AGta3_FJgrbC"
      },
      "execution_count": null,
      "outputs": []
    },
    {
      "cell_type": "code",
      "source": [
        "results.to_csv('/content/drive/MyDrive/stock_model/hyperparametertuning_results.csv')"
      ],
      "metadata": {
        "id": "4JruJ6CEjT5r"
      },
      "execution_count": null,
      "outputs": []
    },
    {
      "cell_type": "code",
      "source": [
        "results"
      ],
      "metadata": {
        "colab": {
          "base_uri": "https://localhost:8080/",
          "height": 708
        },
        "id": "GxD8_aCqjc9P",
        "outputId": "787a1933-8f5f-4df7-c385-c959f2ccc2a5"
      },
      "execution_count": null,
      "outputs": [
        {
          "output_type": "execute_result",
          "data": {
            "text/plain": [
              "                                accuracy  precision    recall        f1\n",
              "baseline                        0.654443   0.654443  0.654443  0.654443\n",
              "model1                          0.682353   0.648157  0.682353  0.562948\n",
              "model2                          0.677647   0.459206  0.677647  0.547440\n",
              "model3_lstm                     0.677647   0.459206  0.677647  0.547440\n",
              "model4_lstm3                    0.680000   0.603818  0.680000  0.552839\n",
              "hypertuning_16_32_True_adam     0.734463   0.658213  0.734463  0.623891\n",
              "hypertuning_16_32_True_sgd      0.732580   0.536674  0.732580  0.619508\n",
              "hypertuning_16_128_True_adam    0.734463   0.658213  0.734463  0.623891\n",
              "hypertuning_16_128_True_sgd     0.732580   0.536674  0.732580  0.619508\n",
              "hypertuning_16_32_False_adam    0.738230   0.662004  0.738230  0.649337\n",
              "hypertuning_16_32_False_sgd     0.732580   0.597581  0.732580  0.622914\n",
              "hypertuning_16_128_False_adam   0.732580   0.536674  0.732580  0.619508\n",
              "hypertuning_16_128_False_sgd    0.732580   0.538703  0.732580  0.620858\n",
              "hypertuning_128_32_True_adam    0.734463   0.658213  0.734463  0.623891\n",
              "hypertuning_128_32_True_sgd     0.734463   0.658213  0.734463  0.623891\n",
              "hypertuning_128_128_True_adam   0.736347   0.698574  0.736347  0.632198\n",
              "hypertuning_128_128_True_sgd    0.732580   0.536674  0.732580  0.619508\n",
              "hypertuning_128_32_False_adam   0.732580   0.536674  0.732580  0.619508\n",
              "hypertuning_128_32_False_sgd    0.734463   0.684579  0.734463  0.623901\n",
              "hypertuning_128_128_False_adam  0.732580   0.536674  0.732580  0.619508\n",
              "hypertuning_128_128_False_sgd   0.732580   0.536674  0.732580  0.619508"
            ],
            "text/html": [
              "\n",
              "  <div id=\"df-a817d394-7015-464e-a2ec-c155c8d0fa87\">\n",
              "    <div class=\"colab-df-container\">\n",
              "      <div>\n",
              "<style scoped>\n",
              "    .dataframe tbody tr th:only-of-type {\n",
              "        vertical-align: middle;\n",
              "    }\n",
              "\n",
              "    .dataframe tbody tr th {\n",
              "        vertical-align: top;\n",
              "    }\n",
              "\n",
              "    .dataframe thead th {\n",
              "        text-align: right;\n",
              "    }\n",
              "</style>\n",
              "<table border=\"1\" class=\"dataframe\">\n",
              "  <thead>\n",
              "    <tr style=\"text-align: right;\">\n",
              "      <th></th>\n",
              "      <th>accuracy</th>\n",
              "      <th>precision</th>\n",
              "      <th>recall</th>\n",
              "      <th>f1</th>\n",
              "    </tr>\n",
              "  </thead>\n",
              "  <tbody>\n",
              "    <tr>\n",
              "      <th>baseline</th>\n",
              "      <td>0.654443</td>\n",
              "      <td>0.654443</td>\n",
              "      <td>0.654443</td>\n",
              "      <td>0.654443</td>\n",
              "    </tr>\n",
              "    <tr>\n",
              "      <th>model1</th>\n",
              "      <td>0.682353</td>\n",
              "      <td>0.648157</td>\n",
              "      <td>0.682353</td>\n",
              "      <td>0.562948</td>\n",
              "    </tr>\n",
              "    <tr>\n",
              "      <th>model2</th>\n",
              "      <td>0.677647</td>\n",
              "      <td>0.459206</td>\n",
              "      <td>0.677647</td>\n",
              "      <td>0.547440</td>\n",
              "    </tr>\n",
              "    <tr>\n",
              "      <th>model3_lstm</th>\n",
              "      <td>0.677647</td>\n",
              "      <td>0.459206</td>\n",
              "      <td>0.677647</td>\n",
              "      <td>0.547440</td>\n",
              "    </tr>\n",
              "    <tr>\n",
              "      <th>model4_lstm3</th>\n",
              "      <td>0.680000</td>\n",
              "      <td>0.603818</td>\n",
              "      <td>0.680000</td>\n",
              "      <td>0.552839</td>\n",
              "    </tr>\n",
              "    <tr>\n",
              "      <th>hypertuning_16_32_True_adam</th>\n",
              "      <td>0.734463</td>\n",
              "      <td>0.658213</td>\n",
              "      <td>0.734463</td>\n",
              "      <td>0.623891</td>\n",
              "    </tr>\n",
              "    <tr>\n",
              "      <th>hypertuning_16_32_True_sgd</th>\n",
              "      <td>0.732580</td>\n",
              "      <td>0.536674</td>\n",
              "      <td>0.732580</td>\n",
              "      <td>0.619508</td>\n",
              "    </tr>\n",
              "    <tr>\n",
              "      <th>hypertuning_16_128_True_adam</th>\n",
              "      <td>0.734463</td>\n",
              "      <td>0.658213</td>\n",
              "      <td>0.734463</td>\n",
              "      <td>0.623891</td>\n",
              "    </tr>\n",
              "    <tr>\n",
              "      <th>hypertuning_16_128_True_sgd</th>\n",
              "      <td>0.732580</td>\n",
              "      <td>0.536674</td>\n",
              "      <td>0.732580</td>\n",
              "      <td>0.619508</td>\n",
              "    </tr>\n",
              "    <tr>\n",
              "      <th>hypertuning_16_32_False_adam</th>\n",
              "      <td>0.738230</td>\n",
              "      <td>0.662004</td>\n",
              "      <td>0.738230</td>\n",
              "      <td>0.649337</td>\n",
              "    </tr>\n",
              "    <tr>\n",
              "      <th>hypertuning_16_32_False_sgd</th>\n",
              "      <td>0.732580</td>\n",
              "      <td>0.597581</td>\n",
              "      <td>0.732580</td>\n",
              "      <td>0.622914</td>\n",
              "    </tr>\n",
              "    <tr>\n",
              "      <th>hypertuning_16_128_False_adam</th>\n",
              "      <td>0.732580</td>\n",
              "      <td>0.536674</td>\n",
              "      <td>0.732580</td>\n",
              "      <td>0.619508</td>\n",
              "    </tr>\n",
              "    <tr>\n",
              "      <th>hypertuning_16_128_False_sgd</th>\n",
              "      <td>0.732580</td>\n",
              "      <td>0.538703</td>\n",
              "      <td>0.732580</td>\n",
              "      <td>0.620858</td>\n",
              "    </tr>\n",
              "    <tr>\n",
              "      <th>hypertuning_128_32_True_adam</th>\n",
              "      <td>0.734463</td>\n",
              "      <td>0.658213</td>\n",
              "      <td>0.734463</td>\n",
              "      <td>0.623891</td>\n",
              "    </tr>\n",
              "    <tr>\n",
              "      <th>hypertuning_128_32_True_sgd</th>\n",
              "      <td>0.734463</td>\n",
              "      <td>0.658213</td>\n",
              "      <td>0.734463</td>\n",
              "      <td>0.623891</td>\n",
              "    </tr>\n",
              "    <tr>\n",
              "      <th>hypertuning_128_128_True_adam</th>\n",
              "      <td>0.736347</td>\n",
              "      <td>0.698574</td>\n",
              "      <td>0.736347</td>\n",
              "      <td>0.632198</td>\n",
              "    </tr>\n",
              "    <tr>\n",
              "      <th>hypertuning_128_128_True_sgd</th>\n",
              "      <td>0.732580</td>\n",
              "      <td>0.536674</td>\n",
              "      <td>0.732580</td>\n",
              "      <td>0.619508</td>\n",
              "    </tr>\n",
              "    <tr>\n",
              "      <th>hypertuning_128_32_False_adam</th>\n",
              "      <td>0.732580</td>\n",
              "      <td>0.536674</td>\n",
              "      <td>0.732580</td>\n",
              "      <td>0.619508</td>\n",
              "    </tr>\n",
              "    <tr>\n",
              "      <th>hypertuning_128_32_False_sgd</th>\n",
              "      <td>0.734463</td>\n",
              "      <td>0.684579</td>\n",
              "      <td>0.734463</td>\n",
              "      <td>0.623901</td>\n",
              "    </tr>\n",
              "    <tr>\n",
              "      <th>hypertuning_128_128_False_adam</th>\n",
              "      <td>0.732580</td>\n",
              "      <td>0.536674</td>\n",
              "      <td>0.732580</td>\n",
              "      <td>0.619508</td>\n",
              "    </tr>\n",
              "    <tr>\n",
              "      <th>hypertuning_128_128_False_sgd</th>\n",
              "      <td>0.732580</td>\n",
              "      <td>0.536674</td>\n",
              "      <td>0.732580</td>\n",
              "      <td>0.619508</td>\n",
              "    </tr>\n",
              "  </tbody>\n",
              "</table>\n",
              "</div>\n",
              "      <button class=\"colab-df-convert\" onclick=\"convertToInteractive('df-a817d394-7015-464e-a2ec-c155c8d0fa87')\"\n",
              "              title=\"Convert this dataframe to an interactive table.\"\n",
              "              style=\"display:none;\">\n",
              "        \n",
              "  <svg xmlns=\"http://www.w3.org/2000/svg\" height=\"24px\"viewBox=\"0 0 24 24\"\n",
              "       width=\"24px\">\n",
              "    <path d=\"M0 0h24v24H0V0z\" fill=\"none\"/>\n",
              "    <path d=\"M18.56 5.44l.94 2.06.94-2.06 2.06-.94-2.06-.94-.94-2.06-.94 2.06-2.06.94zm-11 1L8.5 8.5l.94-2.06 2.06-.94-2.06-.94L8.5 2.5l-.94 2.06-2.06.94zm10 10l.94 2.06.94-2.06 2.06-.94-2.06-.94-.94-2.06-.94 2.06-2.06.94z\"/><path d=\"M17.41 7.96l-1.37-1.37c-.4-.4-.92-.59-1.43-.59-.52 0-1.04.2-1.43.59L10.3 9.45l-7.72 7.72c-.78.78-.78 2.05 0 2.83L4 21.41c.39.39.9.59 1.41.59.51 0 1.02-.2 1.41-.59l7.78-7.78 2.81-2.81c.8-.78.8-2.07 0-2.86zM5.41 20L4 18.59l7.72-7.72 1.47 1.35L5.41 20z\"/>\n",
              "  </svg>\n",
              "      </button>\n",
              "      \n",
              "  <style>\n",
              "    .colab-df-container {\n",
              "      display:flex;\n",
              "      flex-wrap:wrap;\n",
              "      gap: 12px;\n",
              "    }\n",
              "\n",
              "    .colab-df-convert {\n",
              "      background-color: #E8F0FE;\n",
              "      border: none;\n",
              "      border-radius: 50%;\n",
              "      cursor: pointer;\n",
              "      display: none;\n",
              "      fill: #1967D2;\n",
              "      height: 32px;\n",
              "      padding: 0 0 0 0;\n",
              "      width: 32px;\n",
              "    }\n",
              "\n",
              "    .colab-df-convert:hover {\n",
              "      background-color: #E2EBFA;\n",
              "      box-shadow: 0px 1px 2px rgba(60, 64, 67, 0.3), 0px 1px 3px 1px rgba(60, 64, 67, 0.15);\n",
              "      fill: #174EA6;\n",
              "    }\n",
              "\n",
              "    [theme=dark] .colab-df-convert {\n",
              "      background-color: #3B4455;\n",
              "      fill: #D2E3FC;\n",
              "    }\n",
              "\n",
              "    [theme=dark] .colab-df-convert:hover {\n",
              "      background-color: #434B5C;\n",
              "      box-shadow: 0px 1px 3px 1px rgba(0, 0, 0, 0.15);\n",
              "      filter: drop-shadow(0px 1px 2px rgba(0, 0, 0, 0.3));\n",
              "      fill: #FFFFFF;\n",
              "    }\n",
              "  </style>\n",
              "\n",
              "      <script>\n",
              "        const buttonEl =\n",
              "          document.querySelector('#df-a817d394-7015-464e-a2ec-c155c8d0fa87 button.colab-df-convert');\n",
              "        buttonEl.style.display =\n",
              "          google.colab.kernel.accessAllowed ? 'block' : 'none';\n",
              "\n",
              "        async function convertToInteractive(key) {\n",
              "          const element = document.querySelector('#df-a817d394-7015-464e-a2ec-c155c8d0fa87');\n",
              "          const dataTable =\n",
              "            await google.colab.kernel.invokeFunction('convertToInteractive',\n",
              "                                                     [key], {});\n",
              "          if (!dataTable) return;\n",
              "\n",
              "          const docLinkHtml = 'Like what you see? Visit the ' +\n",
              "            '<a target=\"_blank\" href=https://colab.research.google.com/notebooks/data_table.ipynb>data table notebook</a>'\n",
              "            + ' to learn more about interactive tables.';\n",
              "          element.innerHTML = '';\n",
              "          dataTable['output_type'] = 'display_data';\n",
              "          await google.colab.output.renderOutput(dataTable, element);\n",
              "          const docLink = document.createElement('div');\n",
              "          docLink.innerHTML = docLinkHtml;\n",
              "          element.appendChild(docLink);\n",
              "        }\n",
              "      </script>\n",
              "    </div>\n",
              "  </div>\n",
              "  "
            ]
          },
          "metadata": {},
          "execution_count": 33
        }
      ]
    },
    {
      "cell_type": "code",
      "source": [
        "results.idxmax(axis=0)"
      ],
      "metadata": {
        "colab": {
          "base_uri": "https://localhost:8080/"
        },
        "id": "nv4PjDQ1hxsv",
        "outputId": "51de7b53-c89e-43da-94e2-c350262e8898"
      },
      "execution_count": null,
      "outputs": [
        {
          "output_type": "execute_result",
          "data": {
            "text/plain": [
              "accuracy      hypertuning_16_32_False_adam\n",
              "precision    hypertuning_128_128_True_adam\n",
              "recall        hypertuning_16_32_False_adam\n",
              "f1                                baseline\n",
              "dtype: object"
            ]
          },
          "metadata": {},
          "execution_count": 34
        }
      ]
    },
    {
      "cell_type": "code",
      "source": [
        "# retraining the best model to save it\n",
        "# train the model\n",
        "model_name = 'hypertuning_128_128_True_adam'\n",
        "model = model_building_compiling_tuning(data, lstm_nodes=128,\n",
        "                             cnn=True,\n",
        "                             opt='adam')\n",
        "_, filepath, X_test, y_test = model_training_tuning(model, data,\n",
        "                                                    model_name, epochs=250, batch_size = 128)\n",
        "\n",
        "# evaluate the model\n",
        "scores = model_evaluation(model, model_name, filepath, X_test, y_test)"
      ],
      "metadata": {
        "colab": {
          "base_uri": "https://localhost:8080/",
          "height": 1000
        },
        "id": "5EAvnOOcTQ1E",
        "outputId": "ceac38ef-f3d0-4eb7-9d04-537b4b017fe0"
      },
      "execution_count": null,
      "outputs": [
        {
          "output_type": "display_data",
          "data": {
            "text/plain": [
              "(1593, 8)"
            ]
          },
          "metadata": {}
        },
        {
          "output_type": "display_data",
          "data": {
            "text/plain": [
              "(531, 8)"
            ]
          },
          "metadata": {}
        },
        {
          "output_type": "display_data",
          "data": {
            "text/plain": [
              "(1593,)"
            ]
          },
          "metadata": {}
        },
        {
          "output_type": "display_data",
          "data": {
            "text/plain": [
              "(531,)"
            ]
          },
          "metadata": {}
        },
        {
          "output_type": "display_data",
          "data": {
            "text/plain": [
              "'shape of x-te:'"
            ],
            "application/vnd.google.colaboratory.intrinsic+json": {
              "type": "string"
            }
          },
          "metadata": {}
        },
        {
          "output_type": "display_data",
          "data": {
            "text/plain": [
              "(531, 8)"
            ]
          },
          "metadata": {}
        },
        {
          "output_type": "stream",
          "name": "stdout",
          "text": [
            "17/17 [==============================] - 1s 2ms/step\n"
          ]
        },
        {
          "output_type": "display_data",
          "data": {
            "text/plain": [
              "'shape of y_pred:'"
            ],
            "application/vnd.google.colaboratory.intrinsic+json": {
              "type": "string"
            }
          },
          "metadata": {}
        },
        {
          "output_type": "display_data",
          "data": {
            "text/plain": [
              "(531,)"
            ]
          },
          "metadata": {}
        },
        {
          "output_type": "display_data",
          "data": {
            "text/plain": [
              "{'baseline': {'accuracy': 0.6544428772919605,\n",
              "  'precision': 0.6544428772919605,\n",
              "  'recall': 0.6544428772919605,\n",
              "  'f1': 0.6544428772919605},\n",
              " 'model1': {'accuracy': 0.6823529411764706,\n",
              "  'precision': 0.6481568627450981,\n",
              "  'recall': 0.6823529411764706,\n",
              "  'f1': 0.5629476314645805},\n",
              " 'model2': {'accuracy': 0.6776470588235294,\n",
              "  'precision': 0.4592055363321799,\n",
              "  'recall': 0.6776470588235294,\n",
              "  'f1': 0.5474399801996535},\n",
              " 'model3_lstm': {'accuracy': 0.6776470588235294,\n",
              "  'precision': 0.4592055363321799,\n",
              "  'recall': 0.6776470588235294,\n",
              "  'f1': 0.5474399801996535},\n",
              " 'model4_lstm3': {'accuracy': 0.68,\n",
              "  'precision': 0.6038179800221976,\n",
              "  'recall': 0.68,\n",
              "  'f1': 0.5528388376010064},\n",
              " 'hypertuning_16_32_True_adam': {'accuracy': 0.7344632768361582,\n",
              "  'precision': 0.6582134100842127,\n",
              "  'recall': 0.7344632768361582,\n",
              "  'f1': 0.6238905448215495},\n",
              " 'hypertuning_16_32_True_sgd': {'accuracy': 0.7325800376647834,\n",
              "  'precision': 0.5366735115849356,\n",
              "  'recall': 0.7325800376647834,\n",
              "  'f1': 0.6195079014165233},\n",
              " 'hypertuning_16_128_True_adam': {'accuracy': 0.7344632768361582,\n",
              "  'precision': 0.6582134100842127,\n",
              "  'recall': 0.7344632768361582,\n",
              "  'f1': 0.6238905448215495},\n",
              " 'hypertuning_16_128_True_sgd': {'accuracy': 0.7325800376647834,\n",
              "  'precision': 0.5366735115849356,\n",
              "  'recall': 0.7325800376647834,\n",
              "  'f1': 0.6195079014165233},\n",
              " 'hypertuning_16_32_False_adam': {'accuracy': 0.7325800376647834,\n",
              "  'precision': 0.5366735115849356,\n",
              "  'recall': 0.7325800376647834,\n",
              "  'f1': 0.6195079014165233},\n",
              " 'hypertuning_16_32_False_sgd': {'accuracy': 0.7325800376647834,\n",
              "  'precision': 0.5975813370642117,\n",
              "  'recall': 0.7325800376647834,\n",
              "  'f1': 0.6229138995285001},\n",
              " 'hypertuning_16_128_False_adam': {'accuracy': 0.7325800376647834,\n",
              "  'precision': 0.5366735115849356,\n",
              "  'recall': 0.7325800376647834,\n",
              "  'f1': 0.6195079014165233},\n",
              " 'hypertuning_16_128_False_sgd': {'accuracy': 0.7325800376647834,\n",
              "  'precision': 0.5387025229708899,\n",
              "  'recall': 0.7325800376647834,\n",
              "  'f1': 0.6208575918335528},\n",
              " 'hypertuning_128_32_True_adam': {'accuracy': 0.7344632768361582,\n",
              "  'precision': 0.6582134100842127,\n",
              "  'recall': 0.7344632768361582,\n",
              "  'f1': 0.6238905448215495},\n",
              " 'hypertuning_128_32_True_sgd': {'accuracy': 0.7344632768361582,\n",
              "  'precision': 0.6582134100842127,\n",
              "  'recall': 0.7344632768361582,\n",
              "  'f1': 0.6238905448215495},\n",
              " 'hypertuning_128_128_True_adam': {'accuracy': 0.7344632768361582,\n",
              "  'precision': 0.6582134100842127,\n",
              "  'recall': 0.7344632768361582,\n",
              "  'f1': 0.6238905448215495},\n",
              " 'hypertuning_128_128_True_sgd': {'accuracy': 0.7325800376647834,\n",
              "  'precision': 0.5366735115849356,\n",
              "  'recall': 0.7325800376647834,\n",
              "  'f1': 0.6195079014165233},\n",
              " 'hypertuning_128_32_False_adam': {'accuracy': 0.7325800376647834,\n",
              "  'precision': 0.5366735115849356,\n",
              "  'recall': 0.7325800376647834,\n",
              "  'f1': 0.6195079014165233},\n",
              " 'hypertuning_128_32_False_sgd': {'accuracy': 0.7344632768361582,\n",
              "  'precision': 0.6845787584834594,\n",
              "  'recall': 0.7344632768361582,\n",
              "  'f1': 0.6239008137011597},\n",
              " 'hypertuning_128_128_False_adam': {'accuracy': 0.7325800376647834,\n",
              "  'precision': 0.5366735115849356,\n",
              "  'recall': 0.7325800376647834,\n",
              "  'f1': 0.6195079014165233},\n",
              " 'hypertuning_128_128_False_sgd': {'accuracy': 0.7325800376647834,\n",
              "  'precision': 0.5366735115849356,\n",
              "  'recall': 0.7325800376647834,\n",
              "  'f1': 0.6195079014165233}}"
            ]
          },
          "metadata": {}
        }
      ]
    },
    {
      "cell_type": "code",
      "source": [
        "# printing out results\n",
        "cf_matrix = scores[1]['confusion_matrix']\n",
        "classif_report = scores[1]['classification_report']\n",
        "sns.heatmap(cf_matrix, cmap='Blues')\n",
        "plt.show()\n",
        "print(classif_report)"
      ],
      "metadata": {
        "colab": {
          "base_uri": "https://localhost:8080/",
          "height": 624
        },
        "id": "GWH26fvLULot",
        "outputId": "f29a53aa-8d0e-4d29-a453-a47eb0b7c349"
      },
      "execution_count": null,
      "outputs": [
        {
          "output_type": "display_data",
          "data": {
            "text/plain": [
              "<Figure size 640x480 with 2 Axes>"
            ],
            "image/png": "[encoded data removed]"
          },
          "metadata": {}
        },
        {
          "output_type": "stream",
          "name": "stdout",
          "text": [
            "              precision    recall  f1-score   support\n",
            "\n",
            "         0.0       1.00      0.02      0.03        64\n",
            "         1.0       0.73      1.00      0.85       389\n",
            "         2.0       0.00      0.00      0.00        78\n",
            "\n",
            "    accuracy                           0.73       531\n",
            "   macro avg       0.58      0.34      0.29       531\n",
            "weighted avg       0.66      0.73      0.62       531\n",
            "\n"
          ]
        }
      ]
    },
    {
      "cell_type": "markdown",
      "source": [
        "# Deployment\n",
        "\n",
        "The model will be deployed on a cloud-hosted environment and we will be able to access its predictions. The process to this involves:\n",
        "\n",
        "1. Saving and loading the model\n",
        "2. Saving the most recent record of the database which will be used as input to the model for the next day's prediction.\n",
        "3. The Flask-based app that will be used to broadcast the model's results.\n",
        "4. The schedule()-based app that will retrieve the latest information of NFLX from the Financial API.\n",
        "\n",
        "This is the website: http://ec2-18-220-177-255.us-east-2.compute.amazonaws.com:8000/"
      ],
      "metadata": {
        "id": "6gVxSj06ZF6z"
      }
    },
    {
      "cell_type": "code",
      "source": [
        "# saving the model\n",
        "\n",
        "\n",
        "model.save('output/model/best_model')\n"
      ],
      "metadata": {
        "id": "H4eLfc92ZKwP",
        "colab": {
          "base_uri": "https://localhost:8080/"
        },
        "outputId": "8979dbf9-95bf-4315-d606-02473a1554ca"
      },
      "execution_count": null,
      "outputs": [
        {
          "output_type": "stream",
          "name": "stderr",
          "text": [
            "WARNING:absl:Found untraced functions such as _jit_compiled_convolution_op, _update_step_xla, lstm_cell_24_layer_call_fn, lstm_cell_24_layer_call_and_return_conditional_losses while saving (showing 4 of 4). These functions will not be directly callable after loading.\n"
          ]
        }
      ]
    },
    {
      "cell_type": "markdown",
      "source": [
        "* This concludes the report on the stock predictor model. You can find the functions in the files"
      ],
      "metadata": {
        "id": "Kh7xbHseutjJ"
      }
    }
  ]
}